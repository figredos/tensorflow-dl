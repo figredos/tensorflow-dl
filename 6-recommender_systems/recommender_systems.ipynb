{
  "cells": [
    {
      "cell_type": "markdown",
      "metadata": {
        "id": "Fgr00LAJ1WjU"
      },
      "source": [
        "# Recommender Systems with Deep Learning\n"
      ]
    },
    {
      "cell_type": "code",
      "execution_count": 1,
      "metadata": {
        "id": "nJsmyiML1WjV"
      },
      "outputs": [],
      "source": [
        "# Importing packages and libraries\n",
        "from keras.layers import Input, Dense, Embedding, Flatten, Concatenate\n",
        "from keras.models import Model\n",
        "from keras.optimizers import SGD\n",
        "# from keras.optimizers.legacy import SGD  # For macos compatibility\n",
        "\n",
        "from sklearn.utils import shuffle\n",
        "\n",
        "import numpy as np\n",
        "import pandas as pd\n",
        "import tensorflow as tf\n",
        "import matplotlib.pyplot as plt"
      ]
    },
    {
      "cell_type": "code",
      "execution_count": 2,
      "metadata": {
        "colab": {
          "base_uri": "https://localhost:8080/"
        },
        "id": "Ork5DPgl1WjV",
        "outputId": "59eeeea0-0831-4c19-91cd-8a311741633a"
      },
      "outputs": [
        {
          "output_type": "stream",
          "name": "stdout",
          "text": [
            "--2025-03-24 20:31:30--  http://files.grouplens.org/datasets/movielens/ml-20m.zip\n",
            "Resolving files.grouplens.org (files.grouplens.org)... 128.101.65.152\n",
            "Connecting to files.grouplens.org (files.grouplens.org)|128.101.65.152|:80... connected.\n",
            "HTTP request sent, awaiting response... 200 OK\n",
            "Length: 198702078 (189M) [application/zip]\n",
            "Saving to: ‘ml-20m.zip’\n",
            "\n",
            "ml-20m.zip          100%[===================>] 189.50M  15.0MB/s    in 14s     \n",
            "\n",
            "2025-03-24 20:31:45 (13.2 MB/s) - ‘ml-20m.zip’ saved [198702078/198702078]\n",
            "\n"
          ]
        }
      ],
      "source": [
        "# Getting data\n",
        "!wget -nc http://files.grouplens.org/datasets/movielens/ml-20m.zip"
      ]
    },
    {
      "cell_type": "code",
      "execution_count": 3,
      "metadata": {
        "colab": {
          "base_uri": "https://localhost:8080/"
        },
        "id": "IdVArOXf1WjV",
        "outputId": "084d129a-7d2e-4312-9bff-c5eead8d7acc"
      },
      "outputs": [
        {
          "output_type": "stream",
          "name": "stdout",
          "text": [
            "Archive:  ml-20m.zip\n",
            "   creating: ml-20m/\n",
            "  inflating: ml-20m/genome-scores.csv  \n",
            "  inflating: ml-20m/genome-tags.csv  \n",
            "  inflating: ml-20m/links.csv        \n",
            "  inflating: ml-20m/movies.csv       \n",
            "  inflating: ml-20m/ratings.csv      \n",
            "  inflating: ml-20m/README.txt       \n",
            "  inflating: ml-20m/tags.csv         \n"
          ]
        }
      ],
      "source": [
        "# Unzipping file\n",
        "!unzip -n ml-20m.zip"
      ]
    },
    {
      "cell_type": "code",
      "execution_count": 4,
      "metadata": {
        "colab": {
          "base_uri": "https://localhost:8080/",
          "height": 206
        },
        "id": "kAWySiXg1WjV",
        "outputId": "33096dce-68ad-4a29-911a-0869cbed033e"
      },
      "outputs": [
        {
          "output_type": "execute_result",
          "data": {
            "text/plain": [
              "   userId  movieId  rating   timestamp\n",
              "0       1        2     3.5  1112486027\n",
              "1       1       29     3.5  1112484676\n",
              "2       1       32     3.5  1112484819\n",
              "3       1       47     3.5  1112484727\n",
              "4       1       50     3.5  1112484580"
            ],
            "text/html": [
              "\n",
              "  <div id=\"df-28309ff0-2186-48a3-9428-d389f38c8e6e\" class=\"colab-df-container\">\n",
              "    <div>\n",
              "<style scoped>\n",
              "    .dataframe tbody tr th:only-of-type {\n",
              "        vertical-align: middle;\n",
              "    }\n",
              "\n",
              "    .dataframe tbody tr th {\n",
              "        vertical-align: top;\n",
              "    }\n",
              "\n",
              "    .dataframe thead th {\n",
              "        text-align: right;\n",
              "    }\n",
              "</style>\n",
              "<table border=\"1\" class=\"dataframe\">\n",
              "  <thead>\n",
              "    <tr style=\"text-align: right;\">\n",
              "      <th></th>\n",
              "      <th>userId</th>\n",
              "      <th>movieId</th>\n",
              "      <th>rating</th>\n",
              "      <th>timestamp</th>\n",
              "    </tr>\n",
              "  </thead>\n",
              "  <tbody>\n",
              "    <tr>\n",
              "      <th>0</th>\n",
              "      <td>1</td>\n",
              "      <td>2</td>\n",
              "      <td>3.5</td>\n",
              "      <td>1112486027</td>\n",
              "    </tr>\n",
              "    <tr>\n",
              "      <th>1</th>\n",
              "      <td>1</td>\n",
              "      <td>29</td>\n",
              "      <td>3.5</td>\n",
              "      <td>1112484676</td>\n",
              "    </tr>\n",
              "    <tr>\n",
              "      <th>2</th>\n",
              "      <td>1</td>\n",
              "      <td>32</td>\n",
              "      <td>3.5</td>\n",
              "      <td>1112484819</td>\n",
              "    </tr>\n",
              "    <tr>\n",
              "      <th>3</th>\n",
              "      <td>1</td>\n",
              "      <td>47</td>\n",
              "      <td>3.5</td>\n",
              "      <td>1112484727</td>\n",
              "    </tr>\n",
              "    <tr>\n",
              "      <th>4</th>\n",
              "      <td>1</td>\n",
              "      <td>50</td>\n",
              "      <td>3.5</td>\n",
              "      <td>1112484580</td>\n",
              "    </tr>\n",
              "  </tbody>\n",
              "</table>\n",
              "</div>\n",
              "    <div class=\"colab-df-buttons\">\n",
              "\n",
              "  <div class=\"colab-df-container\">\n",
              "    <button class=\"colab-df-convert\" onclick=\"convertToInteractive('df-28309ff0-2186-48a3-9428-d389f38c8e6e')\"\n",
              "            title=\"Convert this dataframe to an interactive table.\"\n",
              "            style=\"display:none;\">\n",
              "\n",
              "  <svg xmlns=\"http://www.w3.org/2000/svg\" height=\"24px\" viewBox=\"0 -960 960 960\">\n",
              "    <path d=\"M120-120v-720h720v720H120Zm60-500h600v-160H180v160Zm220 220h160v-160H400v160Zm0 220h160v-160H400v160ZM180-400h160v-160H180v160Zm440 0h160v-160H620v160ZM180-180h160v-160H180v160Zm440 0h160v-160H620v160Z\"/>\n",
              "  </svg>\n",
              "    </button>\n",
              "\n",
              "  <style>\n",
              "    .colab-df-container {\n",
              "      display:flex;\n",
              "      gap: 12px;\n",
              "    }\n",
              "\n",
              "    .colab-df-convert {\n",
              "      background-color: #E8F0FE;\n",
              "      border: none;\n",
              "      border-radius: 50%;\n",
              "      cursor: pointer;\n",
              "      display: none;\n",
              "      fill: #1967D2;\n",
              "      height: 32px;\n",
              "      padding: 0 0 0 0;\n",
              "      width: 32px;\n",
              "    }\n",
              "\n",
              "    .colab-df-convert:hover {\n",
              "      background-color: #E2EBFA;\n",
              "      box-shadow: 0px 1px 2px rgba(60, 64, 67, 0.3), 0px 1px 3px 1px rgba(60, 64, 67, 0.15);\n",
              "      fill: #174EA6;\n",
              "    }\n",
              "\n",
              "    .colab-df-buttons div {\n",
              "      margin-bottom: 4px;\n",
              "    }\n",
              "\n",
              "    [theme=dark] .colab-df-convert {\n",
              "      background-color: #3B4455;\n",
              "      fill: #D2E3FC;\n",
              "    }\n",
              "\n",
              "    [theme=dark] .colab-df-convert:hover {\n",
              "      background-color: #434B5C;\n",
              "      box-shadow: 0px 1px 3px 1px rgba(0, 0, 0, 0.15);\n",
              "      filter: drop-shadow(0px 1px 2px rgba(0, 0, 0, 0.3));\n",
              "      fill: #FFFFFF;\n",
              "    }\n",
              "  </style>\n",
              "\n",
              "    <script>\n",
              "      const buttonEl =\n",
              "        document.querySelector('#df-28309ff0-2186-48a3-9428-d389f38c8e6e button.colab-df-convert');\n",
              "      buttonEl.style.display =\n",
              "        google.colab.kernel.accessAllowed ? 'block' : 'none';\n",
              "\n",
              "      async function convertToInteractive(key) {\n",
              "        const element = document.querySelector('#df-28309ff0-2186-48a3-9428-d389f38c8e6e');\n",
              "        const dataTable =\n",
              "          await google.colab.kernel.invokeFunction('convertToInteractive',\n",
              "                                                    [key], {});\n",
              "        if (!dataTable) return;\n",
              "\n",
              "        const docLinkHtml = 'Like what you see? Visit the ' +\n",
              "          '<a target=\"_blank\" href=https://colab.research.google.com/notebooks/data_table.ipynb>data table notebook</a>'\n",
              "          + ' to learn more about interactive tables.';\n",
              "        element.innerHTML = '';\n",
              "        dataTable['output_type'] = 'display_data';\n",
              "        await google.colab.output.renderOutput(dataTable, element);\n",
              "        const docLink = document.createElement('div');\n",
              "        docLink.innerHTML = docLinkHtml;\n",
              "        element.appendChild(docLink);\n",
              "      }\n",
              "    </script>\n",
              "  </div>\n",
              "\n",
              "\n",
              "<div id=\"df-9e6ef14b-d4bf-4bba-96a3-9103a82662fa\">\n",
              "  <button class=\"colab-df-quickchart\" onclick=\"quickchart('df-9e6ef14b-d4bf-4bba-96a3-9103a82662fa')\"\n",
              "            title=\"Suggest charts\"\n",
              "            style=\"display:none;\">\n",
              "\n",
              "<svg xmlns=\"http://www.w3.org/2000/svg\" height=\"24px\"viewBox=\"0 0 24 24\"\n",
              "     width=\"24px\">\n",
              "    <g>\n",
              "        <path d=\"M19 3H5c-1.1 0-2 .9-2 2v14c0 1.1.9 2 2 2h14c1.1 0 2-.9 2-2V5c0-1.1-.9-2-2-2zM9 17H7v-7h2v7zm4 0h-2V7h2v10zm4 0h-2v-4h2v4z\"/>\n",
              "    </g>\n",
              "</svg>\n",
              "  </button>\n",
              "\n",
              "<style>\n",
              "  .colab-df-quickchart {\n",
              "      --bg-color: #E8F0FE;\n",
              "      --fill-color: #1967D2;\n",
              "      --hover-bg-color: #E2EBFA;\n",
              "      --hover-fill-color: #174EA6;\n",
              "      --disabled-fill-color: #AAA;\n",
              "      --disabled-bg-color: #DDD;\n",
              "  }\n",
              "\n",
              "  [theme=dark] .colab-df-quickchart {\n",
              "      --bg-color: #3B4455;\n",
              "      --fill-color: #D2E3FC;\n",
              "      --hover-bg-color: #434B5C;\n",
              "      --hover-fill-color: #FFFFFF;\n",
              "      --disabled-bg-color: #3B4455;\n",
              "      --disabled-fill-color: #666;\n",
              "  }\n",
              "\n",
              "  .colab-df-quickchart {\n",
              "    background-color: var(--bg-color);\n",
              "    border: none;\n",
              "    border-radius: 50%;\n",
              "    cursor: pointer;\n",
              "    display: none;\n",
              "    fill: var(--fill-color);\n",
              "    height: 32px;\n",
              "    padding: 0;\n",
              "    width: 32px;\n",
              "  }\n",
              "\n",
              "  .colab-df-quickchart:hover {\n",
              "    background-color: var(--hover-bg-color);\n",
              "    box-shadow: 0 1px 2px rgba(60, 64, 67, 0.3), 0 1px 3px 1px rgba(60, 64, 67, 0.15);\n",
              "    fill: var(--button-hover-fill-color);\n",
              "  }\n",
              "\n",
              "  .colab-df-quickchart-complete:disabled,\n",
              "  .colab-df-quickchart-complete:disabled:hover {\n",
              "    background-color: var(--disabled-bg-color);\n",
              "    fill: var(--disabled-fill-color);\n",
              "    box-shadow: none;\n",
              "  }\n",
              "\n",
              "  .colab-df-spinner {\n",
              "    border: 2px solid var(--fill-color);\n",
              "    border-color: transparent;\n",
              "    border-bottom-color: var(--fill-color);\n",
              "    animation:\n",
              "      spin 1s steps(1) infinite;\n",
              "  }\n",
              "\n",
              "  @keyframes spin {\n",
              "    0% {\n",
              "      border-color: transparent;\n",
              "      border-bottom-color: var(--fill-color);\n",
              "      border-left-color: var(--fill-color);\n",
              "    }\n",
              "    20% {\n",
              "      border-color: transparent;\n",
              "      border-left-color: var(--fill-color);\n",
              "      border-top-color: var(--fill-color);\n",
              "    }\n",
              "    30% {\n",
              "      border-color: transparent;\n",
              "      border-left-color: var(--fill-color);\n",
              "      border-top-color: var(--fill-color);\n",
              "      border-right-color: var(--fill-color);\n",
              "    }\n",
              "    40% {\n",
              "      border-color: transparent;\n",
              "      border-right-color: var(--fill-color);\n",
              "      border-top-color: var(--fill-color);\n",
              "    }\n",
              "    60% {\n",
              "      border-color: transparent;\n",
              "      border-right-color: var(--fill-color);\n",
              "    }\n",
              "    80% {\n",
              "      border-color: transparent;\n",
              "      border-right-color: var(--fill-color);\n",
              "      border-bottom-color: var(--fill-color);\n",
              "    }\n",
              "    90% {\n",
              "      border-color: transparent;\n",
              "      border-bottom-color: var(--fill-color);\n",
              "    }\n",
              "  }\n",
              "</style>\n",
              "\n",
              "  <script>\n",
              "    async function quickchart(key) {\n",
              "      const quickchartButtonEl =\n",
              "        document.querySelector('#' + key + ' button');\n",
              "      quickchartButtonEl.disabled = true;  // To prevent multiple clicks.\n",
              "      quickchartButtonEl.classList.add('colab-df-spinner');\n",
              "      try {\n",
              "        const charts = await google.colab.kernel.invokeFunction(\n",
              "            'suggestCharts', [key], {});\n",
              "      } catch (error) {\n",
              "        console.error('Error during call to suggestCharts:', error);\n",
              "      }\n",
              "      quickchartButtonEl.classList.remove('colab-df-spinner');\n",
              "      quickchartButtonEl.classList.add('colab-df-quickchart-complete');\n",
              "    }\n",
              "    (() => {\n",
              "      let quickchartButtonEl =\n",
              "        document.querySelector('#df-9e6ef14b-d4bf-4bba-96a3-9103a82662fa button');\n",
              "      quickchartButtonEl.style.display =\n",
              "        google.colab.kernel.accessAllowed ? 'block' : 'none';\n",
              "    })();\n",
              "  </script>\n",
              "</div>\n",
              "\n",
              "    </div>\n",
              "  </div>\n"
            ],
            "application/vnd.google.colaboratory.intrinsic+json": {
              "type": "dataframe",
              "variable_name": "df"
            }
          },
          "metadata": {},
          "execution_count": 4
        }
      ],
      "source": [
        "# Importing data\n",
        "df = pd.read_csv('ml-20m/ratings.csv')\n",
        "df.head()"
      ]
    },
    {
      "cell_type": "code",
      "execution_count": 5,
      "metadata": {
        "id": "GCTpkD1U1WjW"
      },
      "outputs": [],
      "source": [
        "# Turning ids into categorical values\n",
        "df['userId'] = pd.Categorical(df['userId'])\n",
        "df['movieId'] = pd.Categorical(df['movieId'])\n",
        "\n",
        "# Creating new ids from the categorical codes\n",
        "df['new_user_id'] = df['userId'].cat.codes\n",
        "df['new_movie_id'] = df['movieId'].cat.codes"
      ]
    },
    {
      "cell_type": "code",
      "execution_count": 6,
      "metadata": {
        "id": "ldN7O3EO1WjW"
      },
      "outputs": [],
      "source": [
        "# Getting user ids, movie ids and ratings as separate arrays\n",
        "user_ids = df['new_user_id'].values\n",
        "movie_ids = df['new_movie_id'].values\n",
        "ratings = df['rating'].values"
      ]
    },
    {
      "cell_type": "code",
      "execution_count": 7,
      "metadata": {
        "id": "SOf6xu_i1WjW"
      },
      "outputs": [],
      "source": [
        "# Getting number of users and number of movies\n",
        "N = len(set(user_ids))\n",
        "M = len(set(movie_ids))\n",
        "\n",
        "# Setting embedding dimension\n",
        "K = 10"
      ]
    },
    {
      "cell_type": "code",
      "execution_count": 8,
      "metadata": {
        "id": "AJqkxtdf1WjW"
      },
      "outputs": [],
      "source": [
        "# Splitting the data\n",
        "\n",
        "# Shuffling arrays\n",
        "user_ids, movie_ids, ratings = shuffle(user_ids, movie_ids, ratings)\n",
        "\n",
        "# Getting size of training data\n",
        "N_train = int(0.8 * len(ratings))\n",
        "\n",
        "# Getting training data\n",
        "train_user = user_ids[:N_train]\n",
        "train_movie = movie_ids[:N_train]\n",
        "train_ratings = ratings[:N_train]\n",
        "\n",
        "# Getting testing data\n",
        "test_user = user_ids[N_train:]\n",
        "test_movie = movie_ids[N_train:]\n",
        "test_ratings = ratings[N_train:]\n",
        "\n",
        "# Normalizing the ratings\n",
        "avg_rating = train_ratings.mean()\n",
        "train_ratings = train_ratings - avg_rating\n",
        "test_ratings = test_ratings - avg_rating"
      ]
    },
    {
      "cell_type": "code",
      "execution_count": 9,
      "metadata": {
        "id": "BJNERkeN1WjW"
      },
      "outputs": [],
      "source": [
        "# Creating model\n",
        "\n",
        "# User and movie inputs\n",
        "u = Input(shape=(1,))\n",
        "m = Input(shape=(1,))\n",
        "\n",
        "# User and movie embeddings\n",
        "u_emb = Embedding(N, K)(u)\n",
        "m_emb = Embedding(M, K)(m)\n",
        "\n",
        "# Flattening both embeddings\n",
        "u_emb = Flatten()(u_emb)\n",
        "m_emb = Flatten()(m_emb)\n",
        "\n",
        "# Concatenating embeddings\n",
        "x = Concatenate()([u_emb, m_emb])\n",
        "\n",
        "# Dense Layer\n",
        "x = Dense(1024, activation='relu')(x)\n",
        "x = Dense(400, activation='relu')(x)\n",
        "x = Dense(400, activation='relu')(x)\n",
        "x = Dense(1)(x)\n",
        "\n",
        "# Building model\n",
        "model = Model([u, m], x)"
      ]
    },
    {
      "cell_type": "code",
      "execution_count": 10,
      "metadata": {
        "colab": {
          "base_uri": "https://localhost:8080/"
        },
        "id": "xQ1BLue61WjW",
        "outputId": "125fbf00-4a4c-4b21-d1ac-1e9c600fe0ba"
      },
      "outputs": [
        {
          "output_type": "stream",
          "name": "stdout",
          "text": [
            "Epoch 1/25\n",
            "15626/15626 - 54s - 3ms/step - loss: 0.7718 - val_loss: 0.7227\n",
            "Epoch 2/25\n",
            "15626/15626 - 33s - 2ms/step - loss: 0.7022 - val_loss: 0.6977\n",
            "Epoch 3/25\n",
            "15626/15626 - 33s - 2ms/step - loss: 0.6814 - val_loss: 0.6865\n",
            "Epoch 4/25\n",
            "15626/15626 - 33s - 2ms/step - loss: 0.6658 - val_loss: 0.6755\n",
            "Epoch 5/25\n",
            "15626/15626 - 33s - 2ms/step - loss: 0.6546 - val_loss: 0.6702\n",
            "Epoch 6/25\n",
            "15626/15626 - 33s - 2ms/step - loss: 0.6430 - val_loss: 0.6658\n",
            "Epoch 7/25\n",
            "15626/15626 - 33s - 2ms/step - loss: 0.6304 - val_loss: 0.6574\n",
            "Epoch 8/25\n",
            "15626/15626 - 33s - 2ms/step - loss: 0.6163 - val_loss: 0.6456\n",
            "Epoch 9/25\n",
            "15626/15626 - 33s - 2ms/step - loss: 0.6053 - val_loss: 0.6412\n",
            "Epoch 10/25\n",
            "15626/15626 - 33s - 2ms/step - loss: 0.5965 - val_loss: 0.6400\n",
            "Epoch 11/25\n",
            "15626/15626 - 33s - 2ms/step - loss: 0.5880 - val_loss: 0.6405\n",
            "Epoch 12/25\n",
            "15626/15626 - 33s - 2ms/step - loss: 0.5795 - val_loss: 0.6362\n",
            "Epoch 13/25\n",
            "15626/15626 - 33s - 2ms/step - loss: 0.5712 - val_loss: 0.6410\n",
            "Epoch 14/25\n",
            "15626/15626 - 33s - 2ms/step - loss: 0.5638 - val_loss: 0.6362\n",
            "Epoch 15/25\n",
            "15626/15626 - 33s - 2ms/step - loss: 0.5574 - val_loss: 0.6297\n",
            "Epoch 16/25\n",
            "15626/15626 - 33s - 2ms/step - loss: 0.5521 - val_loss: 0.6361\n",
            "Epoch 17/25\n",
            "15626/15626 - 33s - 2ms/step - loss: 0.5474 - val_loss: 0.6325\n",
            "Epoch 18/25\n",
            "15626/15626 - 33s - 2ms/step - loss: 0.5433 - val_loss: 0.6398\n",
            "Epoch 19/25\n",
            "15626/15626 - 33s - 2ms/step - loss: 0.5397 - val_loss: 0.6322\n",
            "Epoch 20/25\n",
            "15626/15626 - 33s - 2ms/step - loss: 0.5365 - val_loss: 0.6336\n",
            "Epoch 21/25\n",
            "15626/15626 - 33s - 2ms/step - loss: 0.5335 - val_loss: 0.6305\n",
            "Epoch 22/25\n",
            "15626/15626 - 33s - 2ms/step - loss: 0.5306 - val_loss: 0.6316\n",
            "Epoch 23/25\n",
            "15626/15626 - 33s - 2ms/step - loss: 0.5281 - val_loss: 0.6392\n",
            "Epoch 24/25\n",
            "15626/15626 - 33s - 2ms/step - loss: 0.5259 - val_loss: 0.6355\n",
            "Epoch 25/25\n",
            "15626/15626 - 33s - 2ms/step - loss: 0.5235 - val_loss: 0.6379\n"
          ]
        }
      ],
      "source": [
        "# Compiling model\n",
        "model.compile(\n",
        "    loss='mse',\n",
        "    optimizer=SGD(\n",
        "        learning_rate=0.08,\n",
        "        momentum=0.9,\n",
        "    ),\n",
        ")\n",
        "\n",
        "# Training model\n",
        "r = model.fit(\n",
        "    [train_user, train_movie],\n",
        "    train_ratings,\n",
        "    epochs=25,\n",
        "    batch_size=1024,\n",
        "    verbose=2,\n",
        "    validation_data=([test_user, test_movie], test_ratings),\n",
        ")"
      ]
    },
    {
      "cell_type": "code",
      "execution_count": 11,
      "metadata": {
        "colab": {
          "base_uri": "https://localhost:8080/",
          "height": 430
        },
        "id": "feXjLmXh1WjX",
        "outputId": "5e2d128c-f8b1-4bd4-dc1b-1168b4120fd2"
      },
      "outputs": [
        {
          "output_type": "display_data",
          "data": {
            "text/plain": [
              "<Figure size 640x480 with 1 Axes>"
            ],
            "image/png": "[encoded data removed]"
          },
          "metadata": {}
        }
      ],
      "source": [
        "# Plotting performance\n",
        "plt.plot(r.history['loss'], label='loss')\n",
        "plt.plot(r.history['val_loss'], label='val_loss')\n",
        "plt.legend()\n",
        "plt.show()"
      ]
    }
  ],
  "metadata": {
    "kernelspec": {
      "display_name": "Python 3",
      "name": "python3"
    },
    "language_info": {
      "codemirror_mode": {
        "name": "ipython",
        "version": 3
      },
      "file_extension": ".py",
      "mimetype": "text/x-python",
      "name": "python",
      "nbconvert_exporter": "python",
      "pygments_lexer": "ipython3",
      "version": "3.11.8"
    },
    "colab": {
      "provenance": [],
      "gpuType": "L4"
    },
    "accelerator": "GPU"
  },
  "nbformat": 4,
  "nbformat_minor": 0
}