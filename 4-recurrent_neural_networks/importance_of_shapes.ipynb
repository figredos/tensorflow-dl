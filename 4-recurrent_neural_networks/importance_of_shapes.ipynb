{
 "cells": [
  {
   "cell_type": "markdown",
   "metadata": {},
   "source": [
    "# Importance of shapes\n"
   ]
  },
  {
   "cell_type": "code",
   "execution_count": 1,
   "metadata": {},
   "outputs": [],
   "source": [
    "from keras.layers import Input, SimpleRNN, Dense, Flatten\n",
    "from keras.models import Model\n",
    "from keras.optimizers import Adam\n",
    "from keras.optimizers.legacy import Adam\n",
    "\n",
    "import numpy as np\n",
    "import pandas as pd\n",
    "import matplotlib.pyplot as plt"
   ]
  },
  {
   "cell_type": "markdown",
   "metadata": {},
   "source": [
    "- **_N_**: is the number of samples\n",
    "- **_T_**: is the sequence length\n",
    "- **_D_**: is the number of features of the input\n",
    "- **_M_**: is the number of hidden units\n",
    "- **_K_**: is the number of output units\n"
   ]
  },
  {
   "cell_type": "code",
   "execution_count": 2,
   "metadata": {},
   "outputs": [],
   "source": [
    "# Create the shapes\n",
    "N = 10\n",
    "T = 10\n",
    "D = 3\n",
    "K = 2\n",
    "\n",
    "# Creating the data\n",
    "X = np.random.randn(N, T, D)"
   ]
  },
  {
   "cell_type": "code",
   "execution_count": 3,
   "metadata": {},
   "outputs": [],
   "source": [
    "# Creating the model\n",
    "M = 5  # number of hidden units\n",
    "\n",
    "i = Input(shape=(T, D))\n",
    "x = SimpleRNN(M)(i)\n",
    "x = Dense(K)(x)\n",
    "\n",
    "model = Model(i, x)"
   ]
  },
  {
   "cell_type": "code",
   "execution_count": 4,
   "metadata": {},
   "outputs": [
    {
     "name": "stdout",
     "output_type": "stream",
     "text": [
      "1/1 [==============================] - 0s 55ms/step\n",
      "[[-0.04902975 -0.5854616 ]\n",
      " [-0.43538672  1.1244252 ]\n",
      " [ 0.5223563  -1.1957264 ]\n",
      " [ 0.56118727 -0.6531298 ]\n",
      " [-0.8561445  -0.028218  ]\n",
      " [-0.43940905  1.3703064 ]\n",
      " [-0.13798435  0.68855274]\n",
      " [ 0.7063936  -0.9667949 ]\n",
      " [ 0.17488725 -0.79317564]\n",
      " [ 0.41848445 -0.22476263]]\n"
     ]
    }
   ],
   "source": [
    "# Getting a prediction\n",
    "y_hat = model.predict(X)\n",
    "print(y_hat)"
   ]
  },
  {
   "cell_type": "code",
   "execution_count": 5,
   "metadata": {},
   "outputs": [
    {
     "name": "stdout",
     "output_type": "stream",
     "text": [
      "Model: \"model\"\n",
      "_________________________________________________________________\n",
      " Layer (type)                Output Shape              Param #   \n",
      "=================================================================\n",
      " input_1 (InputLayer)        [(None, 10, 3)]           0         \n",
      "                                                                 \n",
      " simple_rnn (SimpleRNN)      (None, 5)                 45        \n",
      "                                                                 \n",
      " dense (Dense)               (None, 2)                 12        \n",
      "                                                                 \n",
      "=================================================================\n",
      "Total params: 57 (228.00 Byte)\n",
      "Trainable params: 57 (228.00 Byte)\n",
      "Non-trainable params: 0 (0.00 Byte)\n",
      "_________________________________________________________________\n"
     ]
    }
   ],
   "source": [
    "# Showing model summary\n",
    "model.summary()"
   ]
  },
  {
   "cell_type": "code",
   "execution_count": 6,
   "metadata": {},
   "outputs": [
    {
     "data": {
      "text/plain": [
       "[array([[ 0.24556953,  0.8542283 ,  0.8615275 , -0.3229037 ,  0.66085166],\n",
       "        [-0.4307972 ,  0.45685   ,  0.16385525,  0.69206315, -0.1635837 ],\n",
       "        [-0.20360899, -0.20734829,  0.36962956, -0.759168  , -0.07716566]],\n",
       "       dtype=float32),\n",
       " array([[-0.47268987,  0.1442529 , -0.12351755,  0.29982427, -0.8066004 ],\n",
       "        [-0.15515706,  0.32039136,  0.7190061 ,  0.5460566 ,  0.2410979 ],\n",
       "        [ 0.15682127, -0.84987617,  0.4122931 ,  0.11673847, -0.26363653],\n",
       "        [ 0.81794584,  0.35617328,  0.14222978,  0.02515803, -0.42806894],\n",
       "        [ 0.24261554, -0.16550438, -0.5268384 ,  0.7730892 ,  0.19626603]],\n",
       "       dtype=float32),\n",
       " array([0., 0., 0., 0., 0.], dtype=float32)]"
      ]
     },
     "execution_count": 6,
     "metadata": {},
     "output_type": "execute_result"
    }
   ],
   "source": [
    "# Checking the weights\n",
    "model.layers[1].get_weights()"
   ]
  },
  {
   "cell_type": "code",
   "execution_count": 7,
   "metadata": {},
   "outputs": [
    {
     "name": "stdout",
     "output_type": "stream",
     "text": [
      "(3, 5) (5, 5) (5,)\n"
     ]
    }
   ],
   "source": [
    "# Showing weights's shapes\n",
    "a, b, c = model.layers[1].get_weights()\n",
    "print(a.shape, b.shape, c.shape)"
   ]
  },
  {
   "cell_type": "markdown",
   "metadata": {},
   "source": [
    "output:\n",
    "\n",
    "1. ($DxM$) $W_{xh}$: Input to hidden\n",
    "2. ($MxM$) $W_{hh}$: Hidden to hidden\n",
    "3. ($M$) $b_h$: Bias\n"
   ]
  },
  {
   "cell_type": "code",
   "execution_count": 8,
   "metadata": {},
   "outputs": [],
   "source": [
    "wx, wh, bh = model.layers[1].get_weights()\n",
    "wo, bo = model.layers[2].get_weights()"
   ]
  },
  {
   "cell_type": "code",
   "execution_count": null,
   "metadata": {},
   "outputs": [
    {
     "name": "stdout",
     "output_type": "stream",
     "text": [
      "[-0.04902967 -0.58546145]\n",
      "[-0.43538672  1.12442518]\n",
      "[ 0.52235624 -1.1957264 ]\n",
      "[ 0.56118723 -0.65312988]\n",
      "[-0.85614455 -0.02821793]\n",
      "[-0.43940901  1.37030633]\n",
      "[-0.13798429  0.68855268]\n",
      "[ 0.70639361 -0.96679503]\n",
      "[ 0.17488725 -0.79317556]\n",
      "[ 0.41848446 -0.22476258]\n"
     ]
    }
   ],
   "source": [
    "# Manual RNN calculation\n",
    "h_last = np.zeros(M)  # Initializing the hidden state to an array of zeros\n",
    "y_hats = []\n",
    "\n",
    "for n in range(N):\n",
    "    x = X[n]\n",
    "    h_last = np.zeros(M)\n",
    "\n",
    "    for t in range(T):\n",
    "        h = np.tanh(x[t].dot(wx) + h_last.dot(wh) + bh)\n",
    "        y = h.dot(wo) + bo\n",
    "\n",
    "        y_hats.append(y)\n",
    "\n",
    "        h_last = h\n",
    "\n",
    "    print(y_hats[-1])"
   ]
  },
  {
   "cell_type": "markdown",
   "metadata": {},
   "source": [
    "We got the same output\n"
   ]
  }
 ],
 "metadata": {
  "kernelspec": {
   "display_name": "Python 3",
   "language": "python",
   "name": "python3"
  },
  "language_info": {
   "codemirror_mode": {
    "name": "ipython",
    "version": 3
   },
   "file_extension": ".py",
   "mimetype": "text/x-python",
   "name": "python",
   "nbconvert_exporter": "python",
   "pygments_lexer": "ipython3",
   "version": "3.11.8"
  }
 },
 "nbformat": 4,
 "nbformat_minor": 2
}
