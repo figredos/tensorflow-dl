{
 "cells": [
  {
   "cell_type": "markdown",
   "metadata": {},
   "source": [
    "# Linear regression to prove Moore's Law\n",
    "\n",
    "In this notebook, we have a simple implementation of linear regression using TensorFlow. The idea of this linear regression is to prove **_Moore's Law_**.\n",
    "\n",
    "## **_Moore's Law_**\n",
    "\n",
    "Is the observation that the number of transistors in an integrated circuit doubles about every two years. It's an observation and projection of a historical trend.\n",
    "\n",
    "**_Source: [Wikipedia Moore's law](https://en.wikipedia.org/wiki/Moore%27s_law)_**\n"
   ]
  },
  {
   "cell_type": "markdown",
   "metadata": {},
   "source": [
    "## Downloading Data\n",
    "\n",
    "In the cell bellow, we use the `wget` shell command to download the data from the provided url and save it in the folder `datasets`, as specified by the `-P` flag.\n"
   ]
  },
  {
   "cell_type": "code",
   "execution_count": 49,
   "metadata": {},
   "outputs": [
    {
     "name": "stdout",
     "output_type": "stream",
     "text": [
      "--2025-01-10 16:00:57--  https://raw.githubusercontent.com/lazyprogrammer/machine_learning_examples/master/tf2.0/moore.csv\n",
      "Resolving raw.githubusercontent.com (raw.githubusercontent.com)... 185.199.108.133, 185.199.111.133, 185.199.110.133, ...\n",
      "Connecting to raw.githubusercontent.com (raw.githubusercontent.com)|185.199.108.133|:443... connected.\n",
      "HTTP request sent, awaiting response... 200 OK\n",
      "Length: 2302 (2,2K) [text/plain]\n",
      "Saving to: ‘../datasets/moore.csv.2’\n",
      "\n",
      "moore.csv.2         100%[===================>]   2,25K  --.-KB/s    in 0s      \n",
      "\n",
      "2025-01-10 16:00:57 (4,52 MB/s) - ‘../datasets/moore.csv.2’ saved [2302/2302]\n",
      "\n"
     ]
    }
   ],
   "source": [
    "!wget \"https://raw.githubusercontent.com/lazyprogrammer/machine_learning_examples/master/tf2.0/moore.csv\"  -P ../datasets"
   ]
  },
  {
   "cell_type": "markdown",
   "metadata": {},
   "source": [
    "## Importing packages\n",
    "\n",
    "This is a somewhat simple problem, and designed basically to show the versatility of TensorFlow in how it can be used to solve a plethora logistic and linear regression problems. Bellow, you can find all of the used packages listed and how they were used in this notebook.\n",
    "\n",
    "- `numpy`: The numpy package is used 3 times (at least explicitly) in the notebook, the first usage of it is from the `.log` function used to linearize the data from the dataset, the second is of the `.allclose` function that returns whether 2 arrays are equal element-wise bar a small tolerance (since the arrays contain float numbers). Finally, the last time it is used is to transform the dataset from a `DataFrame` object into a numpy array.\n",
    "- `pandas`: The pandas package is used is only used to read the data's csv and turn in into a `DataFrame` object. This is done using the `.read_csv` function.\n",
    "- `matplotlib`: The matplotlib package is used in a couple of instances throughout the notebook, as you would expect, its used to visualize the data in scatter plots before and after it was linearized. Then used again to plot the model's loss through the training process, finally to plot the line that best fits the dataset.\n",
    "- `keras`:\n",
    "  - `optimizer`\n",
    "    - `SGD`: Stands for **_Stochastic Gradient Descent_**, and its the optimizer the model will use in the training process. In **_Kera's_** documentation it simply states \"_Gradient descent with momentum_\".\n",
    "  - `models`\n",
    "    - `Sequential`: Class from Keras that is used to create Sequential models. Sequential models should be used for plain stacks of layers where each layer has exactly one input layer and one output tensor. Our model uses only two layers therefore its ok to use it.\n",
    "  - `layers`\n",
    "    - `Input`: This is where the dimensionality of the data that goes into the model is defined, as well as the initialization of the model's weights.\n",
    "    - `Dense`: Is a \"_simple densely-connected NN layer_\", and it implements the operation:\n",
    "      - $$output = activation(dot(input, kernel) + bias)$$\n",
    "  - `callbacks`\n",
    "    - `LearningRateScheduler`: the learning rate scheduler class is exactly what it sounds like, it is a class that schedules a variation in the learning rate's value at a specified rate. \"At the beginning of every epoch, this callback gets the updated learning rate value fom `schedule` function provided at `__init__`, with the current epoch and current learning rate, and applies the updated learning rate on the optimizer\".\n",
    "\n",
    "**_Source: [Keras documentation](https://keras.io)_**\n"
   ]
  },
  {
   "cell_type": "code",
   "execution_count": 50,
   "metadata": {},
   "outputs": [],
   "source": [
    "import numpy as np\n",
    "import pandas as pd\n",
    "import matplotlib.pyplot as plt\n",
    "\n",
    "from keras.optimizers import SGD\n",
    "from keras.models import Sequential\n",
    "from keras.layers import Input, Dense\n",
    "from keras.callbacks import LearningRateScheduler"
   ]
  },
  {
   "cell_type": "markdown",
   "metadata": {},
   "source": [
    "## Exploratory Data analysis\n",
    "\n",
    "In this step, we'll go through the processes of importing, linearizing the data and plotting it.\n"
   ]
  },
  {
   "cell_type": "markdown",
   "metadata": {},
   "source": [
    "### Reading dataset\n",
    "\n",
    "Using panda's `read_csv`, we'll read the file containing the data and transform it into a `DataFrame` object. Then we turn the `DataFrame` into a numpy array.\n"
   ]
  },
  {
   "cell_type": "code",
   "execution_count": 51,
   "metadata": {},
   "outputs": [
    {
     "data": {
      "text/plain": [
       "array([[       1971,        2300],\n",
       "       [       1972,        3500],\n",
       "       [       1973,        2500],\n",
       "       [       1973,        2500],\n",
       "       [       1974,        4100],\n",
       "       [       1974,        4500],\n",
       "       [       1974,        8000],\n",
       "       [       1975,        3510],\n",
       "       [       1976,        5000],\n",
       "       [       1976,        8500],\n",
       "       [       1976,        6500],\n",
       "       [       1978,        9000],\n",
       "       [       1978,       29000],\n",
       "       [       1979,       17500],\n",
       "       [       1979,       29000],\n",
       "       [       1979,       68000],\n",
       "       [       1981,       11500],\n",
       "       [       1982,       55000],\n",
       "       [       1982,      134000],\n",
       "       [       1983,       22000],\n",
       "       [       1984,       63000],\n",
       "       [       1984,      190000],\n",
       "       [       1985,      275000],\n",
       "       [       1985,       25000],\n",
       "       [       1985,       16000],\n",
       "       [       1986,      110000],\n",
       "       [       1986,      375000],\n",
       "       [       1986,       30000],\n",
       "       [       1987,      385000],\n",
       "       [       1987,      730000],\n",
       "       [       1987,      273000],\n",
       "       [       1987,      553000],\n",
       "       [       1988,      180000],\n",
       "       [       1988,      250000],\n",
       "       [       1989,      600000],\n",
       "       [       1989,     1000000],\n",
       "       [       1989,     1180235],\n",
       "       [       1989,      310000],\n",
       "       [       1990,     1200000],\n",
       "       [       1991,     1350000],\n",
       "       [       1991,       35000],\n",
       "       [       1992,      600000],\n",
       "       [       1992,      900000],\n",
       "       [       1993,     2800000],\n",
       "       [       1993,     3100000],\n",
       "       [       1994,      578977],\n",
       "       [       1994,     2500000],\n",
       "       [       1995,     2500000],\n",
       "       [       1999,      111000],\n",
       "       [       1995,     5500000],\n",
       "       [       1996,     4300000],\n",
       "       [       1997,    10000000],\n",
       "       [       1997,     7500000],\n",
       "       [       1997,     8800000],\n",
       "       [       1998,     7500000],\n",
       "       [       1999,     9500000],\n",
       "       [       1999,    13500000],\n",
       "       [       2000,    21000000],\n",
       "       [       2000,    21000000],\n",
       "       [       1999,    27400000],\n",
       "       [       1999,    21300000],\n",
       "       [       1999,    22000000],\n",
       "       [       2000,    42000000],\n",
       "       [       2001,   191000000],\n",
       "       [       2001,    45000000],\n",
       "       [       2002,    55000000],\n",
       "       [       2004,   112000000],\n",
       "       [       2004,   400000000],\n",
       "       [       2005,   169000000],\n",
       "       [       2006,   184000000],\n",
       "       [       2005,   228000000],\n",
       "       [       2006,   362000000],\n",
       "       [       2007,   540000000],\n",
       "       [       2008,    47000000],\n",
       "       [       2003,    54300000],\n",
       "       [       2003,   105900000],\n",
       "       [       2002,   220000000],\n",
       "       [       2005,   165000000],\n",
       "       [       2005,   250000000],\n",
       "       [       2006,   291000000],\n",
       "       [       2007,   169000000],\n",
       "       [       2003,   410000000],\n",
       "       [       2008,   600000000],\n",
       "       [       2009,   760000000],\n",
       "       [       2011,  1870000000],\n",
       "       [       2012,   432000000],\n",
       "       [       2007,   463000000],\n",
       "       [       2007,    26000000],\n",
       "       [       2008,   230000000],\n",
       "       [       2004,   592000000],\n",
       "       [       2007,   411000000],\n",
       "       [       2008,   731000000],\n",
       "       [       2008,   758000000],\n",
       "       [       2007,   789000000],\n",
       "       [       2009,   904000000],\n",
       "       [       2010,  1000000000],\n",
       "       [       2012,  2990000000],\n",
       "       [       2013,  1000000000],\n",
       "       [       2011,  1160000000],\n",
       "       [       2010,  1170000000],\n",
       "       [       2010,  1200000000],\n",
       "       [       2012,  1200000000],\n",
       "       [       2012,  1303000000],\n",
       "       [       2010,  1400000000],\n",
       "       [       2012,  1400000000],\n",
       "       [       2014,  1400000000],\n",
       "       [       2006,  1700000000],\n",
       "       [       2015,  1750000000],\n",
       "       [       2013,  1860000000],\n",
       "       [       2015,  1900000000],\n",
       "       [       2008,  1900000000],\n",
       "       [       2010,  2000000000],\n",
       "       [       2014,  2000000000],\n",
       "       [       2015,  2000000000],\n",
       "       [       2015,  3000000000],\n",
       "       [       2012,  2100000000],\n",
       "       [       2011,  2270000000],\n",
       "       [       2010,  2300000000],\n",
       "       [       2014,  2600000000],\n",
       "       [       2011,  2600000000],\n",
       "       [       2012,  2750000000],\n",
       "       [       2014,  3000000000],\n",
       "       [       2016,  3000000000],\n",
       "       [       2017,  5300000000],\n",
       "       [       2017,  5300000000],\n",
       "       [       2018,  8500000000],\n",
       "       [       2012,  3100000000],\n",
       "       [       2016,  3200000000],\n",
       "       [       2016,  3300000000],\n",
       "       [       2015,  3990000000],\n",
       "       [       2013,  4200000000],\n",
       "       [       2017,  4300000000],\n",
       "       [       2014,  4310000000],\n",
       "       [       2017,  4800000000],\n",
       "       [       2017,  4800000000],\n",
       "       [       2017,  4800000000],\n",
       "       [       2012,  5000000000],\n",
       "       [       2013,  5000000000],\n",
       "       [       2014,  5560000000],\n",
       "       [       2017,  6100000000],\n",
       "       [       2018,  6900000000],\n",
       "       [       2016,  4000000000],\n",
       "       [       2018,  6900000000],\n",
       "       [       2017,  5500000000],\n",
       "       [       2018,  5500000000],\n",
       "       [       2017,  7000000000],\n",
       "       [       2015,  7100000000],\n",
       "       [       2017,  8000000000],\n",
       "       [       2016,  7200000000],\n",
       "       [       2017,  8000000000],\n",
       "       [       2016,  8000000000],\n",
       "       [       2017,  9700000000],\n",
       "       [       2017,   250000000],\n",
       "       [       2015, 10000000000],\n",
       "       [       2017,  5450000000],\n",
       "       [       2018, 10000000000],\n",
       "       [       2017,  4300000000],\n",
       "       [       2017, 18000000000],\n",
       "       [       2017, 19200000000],\n",
       "       [       2018,  8876000000],\n",
       "       [       2018, 23600000000],\n",
       "       [       2018,  9000000000]])"
      ]
     },
     "execution_count": 51,
     "metadata": {},
     "output_type": "execute_result"
    }
   ],
   "source": [
    "data = pd.read_csv('../datasets/moore.csv', header=None).to_numpy()\n",
    "data"
   ]
  },
  {
   "cell_type": "markdown",
   "metadata": {},
   "source": [
    "### Splitting the data\n",
    "\n",
    "In the cell bellow, we split the data into features (X), and labels (Y). In some of the cells bellow, you may find the notation $N\\times D$, where $N$ is the number of samples, and $D$ the number of features of X.\n"
   ]
  },
  {
   "cell_type": "code",
   "execution_count": 52,
   "metadata": {},
   "outputs": [],
   "source": [
    "X = data[:, 0].reshape(-1, 1)  # Making an N x D matrix\n",
    "Y = data[:, 1]"
   ]
  },
  {
   "cell_type": "markdown",
   "metadata": {},
   "source": [
    "### Plotting the data\n",
    "\n",
    "In the cells bellow, we first show the data as it is, then do a linearization, plot the linearized data, and normalize the data..\n",
    "\n",
    "#### Linearizing the data\n",
    "\n",
    "Linearizing data using a logarithmic function involves transforming exponential growth into a linear relationship. Moore's law observes that the number of transistors on a microchip doubles approximately every two years, leading to an exponential increase.\n",
    "\n",
    "This exponential growth can be expressed by the following function:\n",
    "\n",
    "$$ N = N_0 \\cdot r^T$$\n",
    "\n",
    "Where $N$ is the number of transistors, $N_0$ is the initial number of transistors, $r$ is the rate of growth, and $T$ is the period of analysis. To linearize this function, we apply a log on both sides of the function:\n",
    "\n",
    "$$\\log {N} = \\log {N_0} + \\log {r} * T$$\n",
    "\n",
    "This is our linear equation, to help visualize, a simple linear equation is as follows:\n",
    "\n",
    "$$\\hat {y} = a * x + b$$\n",
    "\n",
    "The equivalence between the equations is shown bellow:\n",
    "\n",
    "$$\\hat {y} = \\log {N}, a = \\log {r}, x = T, b = \\log {N_0}$$\n",
    "\n",
    "Once this process is done, we have a linearization of our previously exponential function.\n",
    "\n",
    "#### Normalization\n",
    "\n",
    "The process we use to normalize the data is very basic, we simply take the mean of the feature's values, and remove that from all values. This makes the mean of the means 0.\n"
   ]
  },
  {
   "cell_type": "code",
   "execution_count": null,
   "metadata": {},
   "outputs": [
    {
     "data": {
      "image/png": "[encoded data removed]",
      "text/plain": [
       "<Figure size 640x480 with 1 Axes>"
      ]
     },
     "metadata": {},
     "output_type": "display_data"
    }
   ],
   "source": [
    "# plot the data\n",
    "plt.scatter(X, Y)"
   ]
  },
  {
   "cell_type": "code",
   "execution_count": 54,
   "metadata": {},
   "outputs": [],
   "source": [
    "# Linearizing data\n",
    "Y = np.log(Y)"
   ]
  },
  {
   "cell_type": "code",
   "execution_count": null,
   "metadata": {},
   "outputs": [
    {
     "data": {
      "image/png": "[encoded data removed]",
      "text/plain": [
       "<Figure size 640x480 with 1 Axes>"
      ]
     },
     "metadata": {},
     "output_type": "display_data"
    }
   ],
   "source": [
    "# Data after linearization\n",
    "plt.scatter(X, Y)"
   ]
  },
  {
   "cell_type": "code",
   "execution_count": 56,
   "metadata": {},
   "outputs": [],
   "source": [
    "# Normalizing the data\n",
    "X = X - X.mean()"
   ]
  },
  {
   "cell_type": "markdown",
   "metadata": {},
   "source": [
    "## Creating and compiling model\n",
    "\n",
    "In the following cells, we will create the model, compile it, and define a scheduler.\n"
   ]
  },
  {
   "cell_type": "markdown",
   "metadata": {},
   "source": [
    "### Creating a model\n",
    "\n",
    "For the purpose we designed this model, and the amount of data, we don't need anything complicated whatsoever. So for this model we'll use two simple layers, one is the input layer and the other one is a single neuron (remember that the neuron is represented by this function, $output = activation(x * weights + bias)$. In this case, the activation function is the default (linear activation $a(x) = x$).\n"
   ]
  },
  {
   "cell_type": "code",
   "execution_count": 57,
   "metadata": {},
   "outputs": [],
   "source": [
    "model = Sequential(\n",
    "    [\n",
    "        Input(shape=(1,)),\n",
    "        Dense(1),\n",
    "    ]\n",
    ")"
   ]
  },
  {
   "cell_type": "markdown",
   "metadata": {},
   "source": [
    "### Compiling the model\n",
    "\n",
    "To compile the model, we use \"Stochastic Gradient Descent\" as the optimizer. \"Stochastic gradient descent is an iterative method for optimizing an objective function with suitable smoothness properties. It can be regarded as a stochastic approximation of gradient descent optimization, since it replaces the actual gradient (calculated from the entire data set) by an estimate thereof (calculated from a randomly selected subset of the data)\".\n",
    "\n",
    "**_Source: [Stochastic Gradient Descent Wikipedia](https://en.wikipedia.org/wiki/Stochastic_gradient_descent)_**\n"
   ]
  },
  {
   "cell_type": "code",
   "execution_count": 58,
   "metadata": {},
   "outputs": [
    {
     "name": "stderr",
     "output_type": "stream",
     "text": [
      "WARNING:absl:At this time, the v2.11+ optimizer `tf.keras.optimizers.SGD` runs slowly on M1/M2 Macs, please use the legacy Keras optimizer instead, located at `tf.keras.optimizers.legacy.SGD`.\n",
      "WARNING:absl:There is a known slowdown when using v2.11+ Keras optimizers on M1/M2 Macs. Falling back to the legacy Keras optimizer, i.e., `tf.keras.optimizers.legacy.SGD`.\n"
     ]
    }
   ],
   "source": [
    "model.compile(\n",
    "    optimizer=SGD(0.001, 0.9),\n",
    "    loss='mse',\n",
    ")"
   ]
  },
  {
   "cell_type": "code",
   "execution_count": 59,
   "metadata": {},
   "outputs": [],
   "source": [
    "def schedule(epoch, lr):\n",
    "    if epoch >= 50:\n",
    "        return 0.0001\n",
    "    return 0.001\n",
    "\n",
    "\n",
    "scheduler = LearningRateScheduler(schedule)"
   ]
  },
  {
   "cell_type": "code",
   "execution_count": 60,
   "metadata": {},
   "outputs": [
    {
     "name": "stdout",
     "output_type": "stream",
     "text": [
      "Epoch 1/200\n",
      "6/6 [==============================] - 0s 507us/step - loss: 618.8264 - lr: 0.0010\n",
      "Epoch 2/200\n",
      "6/6 [==============================] - 0s 466us/step - loss: 391.7005 - lr: 0.0010\n",
      "Epoch 3/200\n",
      "6/6 [==============================] - 0s 408us/step - loss: 406.7457 - lr: 0.0010\n",
      "Epoch 4/200\n",
      "6/6 [==============================] - 0s 536us/step - loss: 291.1634 - lr: 0.0010\n",
      "Epoch 5/200\n",
      "6/6 [==============================] - 0s 369us/step - loss: 345.5285 - lr: 0.0010\n",
      "Epoch 6/200\n",
      "6/6 [==============================] - 0s 381us/step - loss: 203.3630 - lr: 0.0010\n",
      "Epoch 7/200\n",
      "6/6 [==============================] - 0s 437us/step - loss: 129.3388 - lr: 0.0010\n",
      "Epoch 8/200\n",
      "6/6 [==============================] - 0s 348us/step - loss: 81.4555 - lr: 0.0010\n",
      "Epoch 9/200\n",
      "6/6 [==============================] - 0s 373us/step - loss: 59.2711 - lr: 0.0010\n",
      "Epoch 10/200\n",
      "6/6 [==============================] - 0s 376us/step - loss: 38.8138 - lr: 0.0010\n",
      "Epoch 11/200\n",
      "6/6 [==============================] - 0s 804us/step - loss: 27.8612 - lr: 0.0010\n",
      "Epoch 12/200\n",
      "6/6 [==============================] - 0s 411us/step - loss: 20.2167 - lr: 0.0010\n",
      "Epoch 13/200\n",
      "6/6 [==============================] - 0s 337us/step - loss: 17.7911 - lr: 0.0010\n",
      "Epoch 14/200\n",
      "6/6 [==============================] - 0s 443us/step - loss: 14.3727 - lr: 0.0010\n",
      "Epoch 15/200\n",
      "6/6 [==============================] - 0s 348us/step - loss: 11.9798 - lr: 0.0010\n",
      "Epoch 16/200\n",
      "6/6 [==============================] - 0s 348us/step - loss: 7.8776 - lr: 0.0010\n",
      "Epoch 17/200\n",
      "6/6 [==============================] - 0s 398us/step - loss: 7.7179 - lr: 0.0010\n",
      "Epoch 18/200\n",
      "6/6 [==============================] - 0s 342us/step - loss: 6.0042 - lr: 0.0010\n",
      "Epoch 19/200\n",
      "6/6 [==============================] - 0s 337us/step - loss: 7.0423 - lr: 0.0010\n",
      "Epoch 20/200\n",
      "6/6 [==============================] - 0s 367us/step - loss: 4.5784 - lr: 0.0010\n",
      "Epoch 21/200\n",
      "6/6 [==============================] - 0s 392us/step - loss: 3.3062 - lr: 0.0010\n",
      "Epoch 22/200\n",
      "6/6 [==============================] - 0s 377us/step - loss: 2.5840 - lr: 0.0010\n",
      "Epoch 23/200\n",
      "6/6 [==============================] - 0s 353us/step - loss: 1.6106 - lr: 0.0010\n",
      "Epoch 24/200\n",
      "6/6 [==============================] - 0s 323us/step - loss: 1.4019 - lr: 0.0010\n",
      "Epoch 25/200\n",
      "6/6 [==============================] - 0s 340us/step - loss: 1.3249 - lr: 0.0010\n",
      "Epoch 26/200\n",
      "6/6 [==============================] - 0s 375us/step - loss: 1.3261 - lr: 0.0010\n",
      "Epoch 27/200\n",
      "6/6 [==============================] - 0s 336us/step - loss: 1.2768 - lr: 0.0010\n",
      "Epoch 28/200\n",
      "6/6 [==============================] - 0s 360us/step - loss: 1.1304 - lr: 0.0010\n",
      "Epoch 29/200\n",
      "6/6 [==============================] - 0s 353us/step - loss: 1.4169 - lr: 0.0010\n",
      "Epoch 30/200\n",
      "6/6 [==============================] - 0s 317us/step - loss: 1.0788 - lr: 0.0010\n",
      "Epoch 31/200\n",
      "6/6 [==============================] - 0s 390us/step - loss: 0.9998 - lr: 0.0010\n",
      "Epoch 32/200\n",
      "6/6 [==============================] - 0s 343us/step - loss: 1.1404 - lr: 0.0010\n",
      "Epoch 33/200\n",
      "6/6 [==============================] - 0s 344us/step - loss: 1.0275 - lr: 0.0010\n",
      "Epoch 34/200\n",
      "6/6 [==============================] - 0s 486us/step - loss: 2.0081 - lr: 0.0010\n",
      "Epoch 35/200\n",
      "6/6 [==============================] - 0s 361us/step - loss: 1.3809 - lr: 0.0010\n",
      "Epoch 36/200\n",
      "6/6 [==============================] - 0s 328us/step - loss: 1.2428 - lr: 0.0010\n",
      "Epoch 37/200\n",
      "6/6 [==============================] - 0s 376us/step - loss: 1.1638 - lr: 0.0010\n",
      "Epoch 38/200\n",
      "6/6 [==============================] - 0s 520us/step - loss: 1.2687 - lr: 0.0010\n",
      "Epoch 39/200\n",
      "6/6 [==============================] - 0s 377us/step - loss: 1.0978 - lr: 0.0010\n",
      "Epoch 40/200\n",
      "6/6 [==============================] - 0s 346us/step - loss: 0.9028 - lr: 0.0010\n",
      "Epoch 41/200\n",
      "6/6 [==============================] - 0s 358us/step - loss: 0.9530 - lr: 0.0010\n",
      "Epoch 42/200\n",
      "6/6 [==============================] - 0s 359us/step - loss: 0.8751 - lr: 0.0010\n",
      "Epoch 43/200\n",
      "6/6 [==============================] - 0s 426us/step - loss: 0.9079 - lr: 0.0010\n",
      "Epoch 44/200\n",
      "6/6 [==============================] - 0s 392us/step - loss: 0.9540 - lr: 0.0010\n",
      "Epoch 45/200\n",
      "6/6 [==============================] - 0s 419us/step - loss: 0.9083 - lr: 0.0010\n",
      "Epoch 46/200\n",
      "6/6 [==============================] - 0s 345us/step - loss: 0.9765 - lr: 0.0010\n",
      "Epoch 47/200\n",
      "6/6 [==============================] - 0s 404us/step - loss: 0.9922 - lr: 0.0010\n",
      "Epoch 48/200\n",
      "6/6 [==============================] - 0s 345us/step - loss: 0.8843 - lr: 0.0010\n",
      "Epoch 49/200\n",
      "6/6 [==============================] - 0s 334us/step - loss: 0.9069 - lr: 0.0010\n",
      "Epoch 50/200\n",
      "6/6 [==============================] - 0s 390us/step - loss: 0.8912 - lr: 0.0010\n",
      "Epoch 51/200\n",
      "6/6 [==============================] - 0s 362us/step - loss: 0.9528 - lr: 1.0000e-04\n",
      "Epoch 52/200\n",
      "6/6 [==============================] - 0s 348us/step - loss: 0.9876 - lr: 1.0000e-04\n",
      "Epoch 53/200\n",
      "6/6 [==============================] - 0s 367us/step - loss: 0.8958 - lr: 1.0000e-04\n",
      "Epoch 54/200\n",
      "6/6 [==============================] - 0s 379us/step - loss: 0.8721 - lr: 1.0000e-04\n",
      "Epoch 55/200\n",
      "6/6 [==============================] - 0s 331us/step - loss: 0.8732 - lr: 1.0000e-04\n",
      "Epoch 56/200\n",
      "6/6 [==============================] - 0s 394us/step - loss: 0.8719 - lr: 1.0000e-04\n",
      "Epoch 57/200\n",
      "6/6 [==============================] - 0s 346us/step - loss: 0.8724 - lr: 1.0000e-04\n",
      "Epoch 58/200\n",
      "6/6 [==============================] - 0s 388us/step - loss: 0.8727 - lr: 1.0000e-04\n",
      "Epoch 59/200\n",
      "6/6 [==============================] - 0s 367us/step - loss: 0.8765 - lr: 1.0000e-04\n",
      "Epoch 60/200\n",
      "6/6 [==============================] - 0s 311us/step - loss: 0.8714 - lr: 1.0000e-04\n",
      "Epoch 61/200\n",
      "6/6 [==============================] - 0s 405us/step - loss: 0.8775 - lr: 1.0000e-04\n",
      "Epoch 62/200\n",
      "6/6 [==============================] - 0s 370us/step - loss: 0.8723 - lr: 1.0000e-04\n",
      "Epoch 63/200\n",
      "6/6 [==============================] - 0s 342us/step - loss: 0.8924 - lr: 1.0000e-04\n",
      "Epoch 64/200\n",
      "6/6 [==============================] - 0s 351us/step - loss: 0.9146 - lr: 1.0000e-04\n",
      "Epoch 65/200\n",
      "6/6 [==============================] - 0s 351us/step - loss: 0.8810 - lr: 1.0000e-04\n",
      "Epoch 66/200\n",
      "6/6 [==============================] - 0s 475us/step - loss: 0.8731 - lr: 1.0000e-04\n",
      "Epoch 67/200\n",
      "6/6 [==============================] - 0s 339us/step - loss: 0.8693 - lr: 1.0000e-04\n",
      "Epoch 68/200\n",
      "6/6 [==============================] - 0s 330us/step - loss: 0.9001 - lr: 1.0000e-04\n",
      "Epoch 69/200\n",
      "6/6 [==============================] - 0s 362us/step - loss: 0.8907 - lr: 1.0000e-04\n",
      "Epoch 70/200\n",
      "6/6 [==============================] - 0s 371us/step - loss: 0.8704 - lr: 1.0000e-04\n",
      "Epoch 71/200\n",
      "6/6 [==============================] - 0s 362us/step - loss: 0.8718 - lr: 1.0000e-04\n",
      "Epoch 72/200\n",
      "6/6 [==============================] - 0s 379us/step - loss: 0.8720 - lr: 1.0000e-04\n",
      "Epoch 73/200\n",
      "6/6 [==============================] - 0s 394us/step - loss: 0.8737 - lr: 1.0000e-04\n",
      "Epoch 74/200\n",
      "6/6 [==============================] - 0s 331us/step - loss: 0.8752 - lr: 1.0000e-04\n",
      "Epoch 75/200\n",
      "6/6 [==============================] - 0s 365us/step - loss: 0.8740 - lr: 1.0000e-04\n",
      "Epoch 76/200\n",
      "6/6 [==============================] - 0s 339us/step - loss: 0.8806 - lr: 1.0000e-04\n",
      "Epoch 77/200\n",
      "6/6 [==============================] - 0s 358us/step - loss: 0.8705 - lr: 1.0000e-04\n",
      "Epoch 78/200\n",
      "6/6 [==============================] - 0s 466us/step - loss: 0.8814 - lr: 1.0000e-04\n",
      "Epoch 79/200\n",
      "6/6 [==============================] - 0s 337us/step - loss: 0.8739 - lr: 1.0000e-04\n",
      "Epoch 80/200\n",
      "6/6 [==============================] - 0s 502us/step - loss: 0.8719 - lr: 1.0000e-04\n",
      "Epoch 81/200\n",
      "6/6 [==============================] - 0s 361us/step - loss: 0.8913 - lr: 1.0000e-04\n",
      "Epoch 82/200\n",
      "6/6 [==============================] - 0s 335us/step - loss: 0.9449 - lr: 1.0000e-04\n",
      "Epoch 83/200\n",
      "6/6 [==============================] - 0s 410us/step - loss: 0.8940 - lr: 1.0000e-04\n",
      "Epoch 84/200\n",
      "6/6 [==============================] - 0s 336us/step - loss: 0.8745 - lr: 1.0000e-04\n",
      "Epoch 85/200\n",
      "6/6 [==============================] - 0s 340us/step - loss: 0.8762 - lr: 1.0000e-04\n",
      "Epoch 86/200\n",
      "6/6 [==============================] - 0s 410us/step - loss: 0.8885 - lr: 1.0000e-04\n",
      "Epoch 87/200\n",
      "6/6 [==============================] - 0s 366us/step - loss: 0.8859 - lr: 1.0000e-04\n",
      "Epoch 88/200\n",
      "6/6 [==============================] - 0s 451us/step - loss: 0.8782 - lr: 1.0000e-04\n",
      "Epoch 89/200\n",
      "6/6 [==============================] - 0s 344us/step - loss: 0.8695 - lr: 1.0000e-04\n",
      "Epoch 90/200\n",
      "6/6 [==============================] - 0s 345us/step - loss: 0.8737 - lr: 1.0000e-04\n",
      "Epoch 91/200\n",
      "6/6 [==============================] - 0s 459us/step - loss: 0.8800 - lr: 1.0000e-04\n",
      "Epoch 92/200\n",
      "6/6 [==============================] - 0s 352us/step - loss: 0.8797 - lr: 1.0000e-04\n",
      "Epoch 93/200\n",
      "6/6 [==============================] - 0s 325us/step - loss: 0.8781 - lr: 1.0000e-04\n",
      "Epoch 94/200\n",
      "6/6 [==============================] - 0s 375us/step - loss: 0.8747 - lr: 1.0000e-04\n",
      "Epoch 95/200\n",
      "6/6 [==============================] - 0s 345us/step - loss: 0.8882 - lr: 1.0000e-04\n",
      "Epoch 96/200\n",
      "6/6 [==============================] - 0s 347us/step - loss: 0.8985 - lr: 1.0000e-04\n",
      "Epoch 97/200\n",
      "6/6 [==============================] - 0s 358us/step - loss: 0.8845 - lr: 1.0000e-04\n",
      "Epoch 98/200\n",
      "6/6 [==============================] - 0s 425us/step - loss: 0.8812 - lr: 1.0000e-04\n",
      "Epoch 99/200\n",
      "6/6 [==============================] - 0s 421us/step - loss: 0.8707 - lr: 1.0000e-04\n",
      "Epoch 100/200\n",
      "6/6 [==============================] - 0s 335us/step - loss: 0.8911 - lr: 1.0000e-04\n",
      "Epoch 101/200\n",
      "6/6 [==============================] - 0s 315us/step - loss: 0.8748 - lr: 1.0000e-04\n",
      "Epoch 102/200\n",
      "6/6 [==============================] - 0s 387us/step - loss: 0.8708 - lr: 1.0000e-04\n",
      "Epoch 103/200\n",
      "6/6 [==============================] - 0s 349us/step - loss: 0.8701 - lr: 1.0000e-04\n",
      "Epoch 104/200\n",
      "6/6 [==============================] - 0s 327us/step - loss: 0.8726 - lr: 1.0000e-04\n",
      "Epoch 105/200\n",
      "6/6 [==============================] - 0s 389us/step - loss: 0.8708 - lr: 1.0000e-04\n",
      "Epoch 106/200\n",
      "6/6 [==============================] - 0s 346us/step - loss: 0.8757 - lr: 1.0000e-04\n",
      "Epoch 107/200\n",
      "6/6 [==============================] - 0s 330us/step - loss: 0.8741 - lr: 1.0000e-04\n",
      "Epoch 108/200\n",
      "6/6 [==============================] - 0s 348us/step - loss: 0.8914 - lr: 1.0000e-04\n",
      "Epoch 109/200\n",
      "6/6 [==============================] - 0s 318us/step - loss: 0.8831 - lr: 1.0000e-04\n",
      "Epoch 110/200\n",
      "6/6 [==============================] - 0s 331us/step - loss: 0.8737 - lr: 1.0000e-04\n",
      "Epoch 111/200\n",
      "6/6 [==============================] - 0s 377us/step - loss: 0.8838 - lr: 1.0000e-04\n",
      "Epoch 112/200\n",
      "6/6 [==============================] - 0s 380us/step - loss: 0.8827 - lr: 1.0000e-04\n",
      "Epoch 113/200\n",
      "6/6 [==============================] - 0s 360us/step - loss: 0.9308 - lr: 1.0000e-04\n",
      "Epoch 114/200\n",
      "6/6 [==============================] - 0s 373us/step - loss: 0.8864 - lr: 1.0000e-04\n",
      "Epoch 115/200\n",
      "6/6 [==============================] - 0s 436us/step - loss: 0.9065 - lr: 1.0000e-04\n",
      "Epoch 116/200\n",
      "6/6 [==============================] - 0s 424us/step - loss: 0.9095 - lr: 1.0000e-04\n",
      "Epoch 117/200\n",
      "6/6 [==============================] - 0s 341us/step - loss: 0.8786 - lr: 1.0000e-04\n",
      "Epoch 118/200\n",
      "6/6 [==============================] - 0s 480us/step - loss: 0.8723 - lr: 1.0000e-04\n",
      "Epoch 119/200\n",
      "6/6 [==============================] - 0s 353us/step - loss: 0.8791 - lr: 1.0000e-04\n",
      "Epoch 120/200\n",
      "6/6 [==============================] - 0s 333us/step - loss: 0.8675 - lr: 1.0000e-04\n",
      "Epoch 121/200\n",
      "6/6 [==============================] - 0s 484us/step - loss: 0.9056 - lr: 1.0000e-04\n",
      "Epoch 122/200\n",
      "6/6 [==============================] - 0s 368us/step - loss: 0.8875 - lr: 1.0000e-04\n",
      "Epoch 123/200\n",
      "6/6 [==============================] - 0s 329us/step - loss: 0.8729 - lr: 1.0000e-04\n",
      "Epoch 124/200\n",
      "6/6 [==============================] - 0s 431us/step - loss: 0.9167 - lr: 1.0000e-04\n",
      "Epoch 125/200\n",
      "6/6 [==============================] - 0s 352us/step - loss: 0.9002 - lr: 1.0000e-04\n",
      "Epoch 126/200\n",
      "6/6 [==============================] - 0s 372us/step - loss: 0.8717 - lr: 1.0000e-04\n",
      "Epoch 127/200\n",
      "6/6 [==============================] - 0s 383us/step - loss: 0.8942 - lr: 1.0000e-04\n",
      "Epoch 128/200\n",
      "6/6 [==============================] - 0s 331us/step - loss: 0.8884 - lr: 1.0000e-04\n",
      "Epoch 129/200\n",
      "6/6 [==============================] - 0s 365us/step - loss: 0.8684 - lr: 1.0000e-04\n",
      "Epoch 130/200\n",
      "6/6 [==============================] - 0s 335us/step - loss: 0.8731 - lr: 1.0000e-04\n",
      "Epoch 131/200\n",
      "6/6 [==============================] - 0s 344us/step - loss: 0.8731 - lr: 1.0000e-04\n",
      "Epoch 132/200\n",
      "6/6 [==============================] - 0s 400us/step - loss: 0.8720 - lr: 1.0000e-04\n",
      "Epoch 133/200\n",
      "6/6 [==============================] - 0s 363us/step - loss: 0.8797 - lr: 1.0000e-04\n",
      "Epoch 134/200\n",
      "6/6 [==============================] - 0s 337us/step - loss: 0.9068 - lr: 1.0000e-04\n",
      "Epoch 135/200\n",
      "6/6 [==============================] - 0s 437us/step - loss: 0.8951 - lr: 1.0000e-04\n",
      "Epoch 136/200\n",
      "6/6 [==============================] - 0s 385us/step - loss: 0.8865 - lr: 1.0000e-04\n",
      "Epoch 137/200\n",
      "6/6 [==============================] - 0s 473us/step - loss: 0.8990 - lr: 1.0000e-04\n",
      "Epoch 138/200\n",
      "6/6 [==============================] - 0s 336us/step - loss: 0.8760 - lr: 1.0000e-04\n",
      "Epoch 139/200\n",
      "6/6 [==============================] - 0s 323us/step - loss: 0.8726 - lr: 1.0000e-04\n",
      "Epoch 140/200\n",
      "6/6 [==============================] - 0s 391us/step - loss: 0.8903 - lr: 1.0000e-04\n",
      "Epoch 141/200\n",
      "6/6 [==============================] - 0s 314us/step - loss: 0.9063 - lr: 1.0000e-04\n",
      "Epoch 142/200\n",
      "6/6 [==============================] - 0s 400us/step - loss: 0.8986 - lr: 1.0000e-04\n",
      "Epoch 143/200\n",
      "6/6 [==============================] - 0s 387us/step - loss: 0.8871 - lr: 1.0000e-04\n",
      "Epoch 144/200\n",
      "6/6 [==============================] - 0s 337us/step - loss: 0.8711 - lr: 1.0000e-04\n",
      "Epoch 145/200\n",
      "6/6 [==============================] - 0s 384us/step - loss: 0.8723 - lr: 1.0000e-04\n",
      "Epoch 146/200\n",
      "6/6 [==============================] - 0s 439us/step - loss: 0.8727 - lr: 1.0000e-04\n",
      "Epoch 147/200\n",
      "6/6 [==============================] - 0s 357us/step - loss: 0.8803 - lr: 1.0000e-04\n",
      "Epoch 148/200\n",
      "6/6 [==============================] - 0s 370us/step - loss: 0.8697 - lr: 1.0000e-04\n",
      "Epoch 149/200\n",
      "6/6 [==============================] - 0s 331us/step - loss: 0.8851 - lr: 1.0000e-04\n",
      "Epoch 150/200\n",
      "6/6 [==============================] - 0s 310us/step - loss: 0.8820 - lr: 1.0000e-04\n",
      "Epoch 151/200\n",
      "6/6 [==============================] - 0s 362us/step - loss: 0.8731 - lr: 1.0000e-04\n",
      "Epoch 152/200\n",
      "6/6 [==============================] - 0s 359us/step - loss: 0.8733 - lr: 1.0000e-04\n",
      "Epoch 153/200\n",
      "6/6 [==============================] - 0s 359us/step - loss: 0.8710 - lr: 1.0000e-04\n",
      "Epoch 154/200\n",
      "6/6 [==============================] - 0s 425us/step - loss: 0.8709 - lr: 1.0000e-04\n",
      "Epoch 155/200\n",
      "6/6 [==============================] - 0s 350us/step - loss: 0.8799 - lr: 1.0000e-04\n",
      "Epoch 156/200\n",
      "6/6 [==============================] - 0s 396us/step - loss: 0.8839 - lr: 1.0000e-04\n",
      "Epoch 157/200\n",
      "6/6 [==============================] - 0s 370us/step - loss: 0.8766 - lr: 1.0000e-04\n",
      "Epoch 158/200\n",
      "6/6 [==============================] - 0s 337us/step - loss: 0.8801 - lr: 1.0000e-04\n",
      "Epoch 159/200\n",
      "6/6 [==============================] - 0s 352us/step - loss: 0.9213 - lr: 1.0000e-04\n",
      "Epoch 160/200\n",
      "6/6 [==============================] - 0s 369us/step - loss: 0.8847 - lr: 1.0000e-04\n",
      "Epoch 161/200\n",
      "6/6 [==============================] - 0s 321us/step - loss: 0.8727 - lr: 1.0000e-04\n",
      "Epoch 162/200\n",
      "6/6 [==============================] - 0s 363us/step - loss: 0.8744 - lr: 1.0000e-04\n",
      "Epoch 163/200\n",
      "6/6 [==============================] - 0s 395us/step - loss: 0.8886 - lr: 1.0000e-04\n",
      "Epoch 164/200\n",
      "6/6 [==============================] - 0s 358us/step - loss: 0.8787 - lr: 1.0000e-04\n",
      "Epoch 165/200\n",
      "6/6 [==============================] - 0s 415us/step - loss: 0.8714 - lr: 1.0000e-04\n",
      "Epoch 166/200\n",
      "6/6 [==============================] - 0s 350us/step - loss: 0.8707 - lr: 1.0000e-04\n",
      "Epoch 167/200\n",
      "6/6 [==============================] - 0s 391us/step - loss: 0.8741 - lr: 1.0000e-04\n",
      "Epoch 168/200\n",
      "6/6 [==============================] - 0s 455us/step - loss: 0.8690 - lr: 1.0000e-04\n",
      "Epoch 169/200\n",
      "6/6 [==============================] - 0s 344us/step - loss: 0.8804 - lr: 1.0000e-04\n",
      "Epoch 170/200\n",
      "6/6 [==============================] - 0s 385us/step - loss: 0.8816 - lr: 1.0000e-04\n",
      "Epoch 171/200\n",
      "6/6 [==============================] - 0s 335us/step - loss: 0.8767 - lr: 1.0000e-04\n",
      "Epoch 172/200\n",
      "6/6 [==============================] - 0s 388us/step - loss: 0.8927 - lr: 1.0000e-04\n",
      "Epoch 173/200\n",
      "6/6 [==============================] - 0s 434us/step - loss: 0.9042 - lr: 1.0000e-04\n",
      "Epoch 174/200\n",
      "6/6 [==============================] - 0s 351us/step - loss: 0.8666 - lr: 1.0000e-04\n",
      "Epoch 175/200\n",
      "6/6 [==============================] - 0s 344us/step - loss: 0.9820 - lr: 1.0000e-04\n",
      "Epoch 176/200\n",
      "6/6 [==============================] - 0s 365us/step - loss: 0.9628 - lr: 1.0000e-04\n",
      "Epoch 177/200\n",
      "6/6 [==============================] - 0s 336us/step - loss: 0.8827 - lr: 1.0000e-04\n",
      "Epoch 178/200\n",
      "6/6 [==============================] - 0s 389us/step - loss: 0.8910 - lr: 1.0000e-04\n",
      "Epoch 179/200\n",
      "6/6 [==============================] - 0s 352us/step - loss: 0.8819 - lr: 1.0000e-04\n",
      "Epoch 180/200\n",
      "6/6 [==============================] - 0s 341us/step - loss: 0.8726 - lr: 1.0000e-04\n",
      "Epoch 181/200\n",
      "6/6 [==============================] - 0s 502us/step - loss: 0.8769 - lr: 1.0000e-04\n",
      "Epoch 182/200\n",
      "6/6 [==============================] - 0s 350us/step - loss: 0.8749 - lr: 1.0000e-04\n",
      "Epoch 183/200\n",
      "6/6 [==============================] - 0s 349us/step - loss: 0.8724 - lr: 1.0000e-04\n",
      "Epoch 184/200\n",
      "6/6 [==============================] - 0s 408us/step - loss: 0.8714 - lr: 1.0000e-04\n",
      "Epoch 185/200\n",
      "6/6 [==============================] - 0s 363us/step - loss: 0.8709 - lr: 1.0000e-04\n",
      "Epoch 186/200\n",
      "6/6 [==============================] - 0s 390us/step - loss: 0.8707 - lr: 1.0000e-04\n",
      "Epoch 187/200\n",
      "6/6 [==============================] - 0s 390us/step - loss: 0.8745 - lr: 1.0000e-04\n",
      "Epoch 188/200\n",
      "6/6 [==============================] - 0s 336us/step - loss: 0.8684 - lr: 1.0000e-04\n",
      "Epoch 189/200\n",
      "6/6 [==============================] - 0s 494us/step - loss: 0.8943 - lr: 1.0000e-04\n",
      "Epoch 190/200\n",
      "6/6 [==============================] - 0s 358us/step - loss: 0.9159 - lr: 1.0000e-04\n",
      "Epoch 191/200\n",
      "6/6 [==============================] - 0s 442us/step - loss: 0.8798 - lr: 1.0000e-04\n",
      "Epoch 192/200\n",
      "6/6 [==============================] - 0s 479us/step - loss: 0.8708 - lr: 1.0000e-04\n",
      "Epoch 193/200\n",
      "6/6 [==============================] - 0s 420us/step - loss: 0.8707 - lr: 1.0000e-04\n",
      "Epoch 194/200\n",
      "6/6 [==============================] - 0s 567us/step - loss: 0.8717 - lr: 1.0000e-04\n",
      "Epoch 195/200\n",
      "6/6 [==============================] - 0s 378us/step - loss: 0.8720 - lr: 1.0000e-04\n",
      "Epoch 196/200\n",
      "6/6 [==============================] - 0s 742us/step - loss: 0.8744 - lr: 1.0000e-04\n",
      "Epoch 197/200\n",
      "6/6 [==============================] - 0s 390us/step - loss: 0.8710 - lr: 1.0000e-04\n",
      "Epoch 198/200\n",
      "6/6 [==============================] - 0s 506us/step - loss: 0.8741 - lr: 1.0000e-04\n",
      "Epoch 199/200\n",
      "6/6 [==============================] - 0s 391us/step - loss: 0.8882 - lr: 1.0000e-04\n",
      "Epoch 200/200\n",
      "6/6 [==============================] - 0s 389us/step - loss: 0.8788 - lr: 1.0000e-04\n"
     ]
    }
   ],
   "source": [
    "r = model.fit(X, Y, epochs=200, callbacks=[scheduler])"
   ]
  },
  {
   "cell_type": "code",
   "execution_count": 61,
   "metadata": {},
   "outputs": [
    {
     "data": {
      "text/plain": [
       "<matplotlib.legend.Legend at 0x140ca73d0>"
      ]
     },
     "execution_count": 61,
     "metadata": {},
     "output_type": "execute_result"
    },
    {
     "data": {
      "image/png": "[encoded data removed]",
      "text/plain": [
       "<Figure size 640x480 with 1 Axes>"
      ]
     },
     "metadata": {},
     "output_type": "display_data"
    }
   ],
   "source": [
    "# Plot the loss\n",
    "plt.plot(r.history['loss'], label='loss')\n",
    "plt.legend()"
   ]
  },
  {
   "cell_type": "code",
   "execution_count": 62,
   "metadata": {},
   "outputs": [
    {
     "data": {
      "text/plain": [
       "[<keras.src.layers.core.dense.Dense at 0x140785190>]"
      ]
     },
     "execution_count": 62,
     "metadata": {},
     "output_type": "execute_result"
    }
   ],
   "source": [
    "model.layers"
   ]
  },
  {
   "cell_type": "code",
   "execution_count": 63,
   "metadata": {},
   "outputs": [
    {
     "data": {
      "text/plain": [
       "[array([[0.34660515]], dtype=float32), array([17.762384], dtype=float32)]"
      ]
     },
     "execution_count": 63,
     "metadata": {},
     "output_type": "execute_result"
    }
   ],
   "source": [
    "model.layers[0].get_weights()"
   ]
  },
  {
   "cell_type": "code",
   "execution_count": 64,
   "metadata": {},
   "outputs": [],
   "source": [
    "a = model.layers[0].get_weights()[0][0, 0]"
   ]
  },
  {
   "cell_type": "code",
   "execution_count": 65,
   "metadata": {},
   "outputs": [
    {
     "data": {
      "text/plain": [
       "0.34660515"
      ]
     },
     "execution_count": 65,
     "metadata": {},
     "output_type": "execute_result"
    }
   ],
   "source": [
    "a"
   ]
  },
  {
   "cell_type": "markdown",
   "metadata": {},
   "source": [
    "## Part 2: Making predictions\n"
   ]
  },
  {
   "cell_type": "code",
   "execution_count": 66,
   "metadata": {},
   "outputs": [
    {
     "name": "stdout",
     "output_type": "stream",
     "text": [
      "6/6 [==============================] - 0s 711us/step\n"
     ]
    },
    {
     "data": {
      "text/plain": [
       "[<matplotlib.lines.Line2D at 0x140f0e950>]"
      ]
     },
     "execution_count": 66,
     "metadata": {},
     "output_type": "execute_result"
    },
    {
     "data": {
      "image/png": "[encoded data removed]",
      "text/plain": [
       "<Figure size 640x480 with 1 Axes>"
      ]
     },
     "metadata": {},
     "output_type": "display_data"
    }
   ],
   "source": [
    "# Make sure that the line fits our data\n",
    "Y_hat = model.predict(X).flatten()\n",
    "plt.scatter(X, Y)\n",
    "plt.plot(X, Y_hat)"
   ]
  },
  {
   "cell_type": "code",
   "execution_count": 67,
   "metadata": {},
   "outputs": [
    {
     "data": {
      "text/plain": [
       "True"
      ]
     },
     "execution_count": 67,
     "metadata": {},
     "output_type": "execute_result"
    }
   ],
   "source": [
    "# Manual calculation\n",
    "\n",
    "# Get the weights\n",
    "w, b = model.layers[0].get_weights()\n",
    "\n",
    "# Reshape X because we fattened it again earlier\n",
    "X = X.reshape(-1, 1)\n",
    "\n",
    "# (N x 1) x (1 x 1) + (1) --> (N x 1)\n",
    "Y_hat_manual = (X.dot(w) + b).flatten()\n",
    "\n",
    "# Dont use == for floating points\n",
    "np.allclose(Y_hat, Y_hat_manual)"
   ]
  }
 ],
 "metadata": {
  "kernelspec": {
   "display_name": "Python 3",
   "language": "python",
   "name": "python3"
  },
  "language_info": {
   "codemirror_mode": {
    "name": "ipython",
    "version": 3
   },
   "file_extension": ".py",
   "mimetype": "text/x-python",
   "name": "python",
   "nbconvert_exporter": "python",
   "pygments_lexer": "ipython3",
   "version": "3.11.8"
  }
 },
 "nbformat": 4,
 "nbformat_minor": 2
}
