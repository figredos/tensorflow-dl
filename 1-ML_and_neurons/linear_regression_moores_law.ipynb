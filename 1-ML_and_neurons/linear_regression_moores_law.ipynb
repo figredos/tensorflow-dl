{
 "cells": [
  {
   "cell_type": "code",
   "execution_count": 3,
   "metadata": {},
   "outputs": [
    {
     "name": "stdout",
     "output_type": "stream",
     "text": [
      "--2024-12-22 12:20:25--  https://raw.githubusercontent.com/lazyprogrammer/machine_learning_examples/master/tf2.0/moore.csv\n",
      "Resolving raw.githubusercontent.com (raw.githubusercontent.com)... 2606:50c0:8001::154, 2606:50c0:8002::154, 2606:50c0:8003::154, ...\n",
      "Connecting to raw.githubusercontent.com (raw.githubusercontent.com)|2606:50c0:8001::154|:443... connected.\n",
      "HTTP request sent, awaiting response... 200 OK\n",
      "Length: 2302 (2,2K) [text/plain]\n",
      "Saving to: ‘../datasets/moore.csv.1’\n",
      "\n",
      "moore.csv.1         100%[===================>]   2,25K  --.-KB/s    in 0,001s  \n",
      "\n",
      "2024-12-22 12:20:26 (3,66 MB/s) - ‘../datasets/moore.csv.1’ saved [2302/2302]\n",
      "\n"
     ]
    }
   ],
   "source": [
    "!wget \"https://raw.githubusercontent.com/lazyprogrammer/machine_learning_examples/master/tf2.0/moore.csv\"  -P ../datasets"
   ]
  },
  {
   "cell_type": "code",
   "execution_count": 6,
   "metadata": {},
   "outputs": [],
   "source": [
    "import pandas as pd\n",
    "import numpy as np\n",
    "import tensorflow as tf\n",
    "import matplotlib.pyplot as plt"
   ]
  },
  {
   "cell_type": "code",
   "execution_count": 7,
   "metadata": {},
   "outputs": [
    {
     "data": {
      "text/plain": [
       "array([[       1971,        2300],\n",
       "       [       1972,        3500],\n",
       "       [       1973,        2500],\n",
       "       [       1973,        2500],\n",
       "       [       1974,        4100],\n",
       "       [       1974,        4500],\n",
       "       [       1974,        8000],\n",
       "       [       1975,        3510],\n",
       "       [       1976,        5000],\n",
       "       [       1976,        8500],\n",
       "       [       1976,        6500],\n",
       "       [       1978,        9000],\n",
       "       [       1978,       29000],\n",
       "       [       1979,       17500],\n",
       "       [       1979,       29000],\n",
       "       [       1979,       68000],\n",
       "       [       1981,       11500],\n",
       "       [       1982,       55000],\n",
       "       [       1982,      134000],\n",
       "       [       1983,       22000],\n",
       "       [       1984,       63000],\n",
       "       [       1984,      190000],\n",
       "       [       1985,      275000],\n",
       "       [       1985,       25000],\n",
       "       [       1985,       16000],\n",
       "       [       1986,      110000],\n",
       "       [       1986,      375000],\n",
       "       [       1986,       30000],\n",
       "       [       1987,      385000],\n",
       "       [       1987,      730000],\n",
       "       [       1987,      273000],\n",
       "       [       1987,      553000],\n",
       "       [       1988,      180000],\n",
       "       [       1988,      250000],\n",
       "       [       1989,      600000],\n",
       "       [       1989,     1000000],\n",
       "       [       1989,     1180235],\n",
       "       [       1989,      310000],\n",
       "       [       1990,     1200000],\n",
       "       [       1991,     1350000],\n",
       "       [       1991,       35000],\n",
       "       [       1992,      600000],\n",
       "       [       1992,      900000],\n",
       "       [       1993,     2800000],\n",
       "       [       1993,     3100000],\n",
       "       [       1994,      578977],\n",
       "       [       1994,     2500000],\n",
       "       [       1995,     2500000],\n",
       "       [       1999,      111000],\n",
       "       [       1995,     5500000],\n",
       "       [       1996,     4300000],\n",
       "       [       1997,    10000000],\n",
       "       [       1997,     7500000],\n",
       "       [       1997,     8800000],\n",
       "       [       1998,     7500000],\n",
       "       [       1999,     9500000],\n",
       "       [       1999,    13500000],\n",
       "       [       2000,    21000000],\n",
       "       [       2000,    21000000],\n",
       "       [       1999,    27400000],\n",
       "       [       1999,    21300000],\n",
       "       [       1999,    22000000],\n",
       "       [       2000,    42000000],\n",
       "       [       2001,   191000000],\n",
       "       [       2001,    45000000],\n",
       "       [       2002,    55000000],\n",
       "       [       2004,   112000000],\n",
       "       [       2004,   400000000],\n",
       "       [       2005,   169000000],\n",
       "       [       2006,   184000000],\n",
       "       [       2005,   228000000],\n",
       "       [       2006,   362000000],\n",
       "       [       2007,   540000000],\n",
       "       [       2008,    47000000],\n",
       "       [       2003,    54300000],\n",
       "       [       2003,   105900000],\n",
       "       [       2002,   220000000],\n",
       "       [       2005,   165000000],\n",
       "       [       2005,   250000000],\n",
       "       [       2006,   291000000],\n",
       "       [       2007,   169000000],\n",
       "       [       2003,   410000000],\n",
       "       [       2008,   600000000],\n",
       "       [       2009,   760000000],\n",
       "       [       2011,  1870000000],\n",
       "       [       2012,   432000000],\n",
       "       [       2007,   463000000],\n",
       "       [       2007,    26000000],\n",
       "       [       2008,   230000000],\n",
       "       [       2004,   592000000],\n",
       "       [       2007,   411000000],\n",
       "       [       2008,   731000000],\n",
       "       [       2008,   758000000],\n",
       "       [       2007,   789000000],\n",
       "       [       2009,   904000000],\n",
       "       [       2010,  1000000000],\n",
       "       [       2012,  2990000000],\n",
       "       [       2013,  1000000000],\n",
       "       [       2011,  1160000000],\n",
       "       [       2010,  1170000000],\n",
       "       [       2010,  1200000000],\n",
       "       [       2012,  1200000000],\n",
       "       [       2012,  1303000000],\n",
       "       [       2010,  1400000000],\n",
       "       [       2012,  1400000000],\n",
       "       [       2014,  1400000000],\n",
       "       [       2006,  1700000000],\n",
       "       [       2015,  1750000000],\n",
       "       [       2013,  1860000000],\n",
       "       [       2015,  1900000000],\n",
       "       [       2008,  1900000000],\n",
       "       [       2010,  2000000000],\n",
       "       [       2014,  2000000000],\n",
       "       [       2015,  2000000000],\n",
       "       [       2015,  3000000000],\n",
       "       [       2012,  2100000000],\n",
       "       [       2011,  2270000000],\n",
       "       [       2010,  2300000000],\n",
       "       [       2014,  2600000000],\n",
       "       [       2011,  2600000000],\n",
       "       [       2012,  2750000000],\n",
       "       [       2014,  3000000000],\n",
       "       [       2016,  3000000000],\n",
       "       [       2017,  5300000000],\n",
       "       [       2017,  5300000000],\n",
       "       [       2018,  8500000000],\n",
       "       [       2012,  3100000000],\n",
       "       [       2016,  3200000000],\n",
       "       [       2016,  3300000000],\n",
       "       [       2015,  3990000000],\n",
       "       [       2013,  4200000000],\n",
       "       [       2017,  4300000000],\n",
       "       [       2014,  4310000000],\n",
       "       [       2017,  4800000000],\n",
       "       [       2017,  4800000000],\n",
       "       [       2017,  4800000000],\n",
       "       [       2012,  5000000000],\n",
       "       [       2013,  5000000000],\n",
       "       [       2014,  5560000000],\n",
       "       [       2017,  6100000000],\n",
       "       [       2018,  6900000000],\n",
       "       [       2016,  4000000000],\n",
       "       [       2018,  6900000000],\n",
       "       [       2017,  5500000000],\n",
       "       [       2018,  5500000000],\n",
       "       [       2017,  7000000000],\n",
       "       [       2015,  7100000000],\n",
       "       [       2017,  8000000000],\n",
       "       [       2016,  7200000000],\n",
       "       [       2017,  8000000000],\n",
       "       [       2016,  8000000000],\n",
       "       [       2017,  9700000000],\n",
       "       [       2017,   250000000],\n",
       "       [       2015, 10000000000],\n",
       "       [       2017,  5450000000],\n",
       "       [       2018, 10000000000],\n",
       "       [       2017,  4300000000],\n",
       "       [       2017, 18000000000],\n",
       "       [       2017, 19200000000],\n",
       "       [       2018,  8876000000],\n",
       "       [       2018, 23600000000],\n",
       "       [       2018,  9000000000]])"
      ]
     },
     "execution_count": 7,
     "metadata": {},
     "output_type": "execute_result"
    }
   ],
   "source": [
    "data = pd.read_csv('../datasets/moore.csv', header=None).to_numpy()\n",
    "data"
   ]
  },
  {
   "cell_type": "code",
   "execution_count": 8,
   "metadata": {},
   "outputs": [],
   "source": [
    "X = data[:, 0].reshape(-1, 1)  # Making an N x D matrix\n",
    "Y = data[:, 1]"
   ]
  },
  {
   "cell_type": "code",
   "execution_count": 9,
   "metadata": {},
   "outputs": [
    {
     "data": {
      "text/plain": [
       "<matplotlib.collections.PathCollection at 0x31ef98fd0>"
      ]
     },
     "execution_count": 9,
     "metadata": {},
     "output_type": "execute_result"
    },
    {
     "data": {
      "image/png": "[encoded data removed]",
      "text/plain": [
       "<Figure size 640x480 with 1 Axes>"
      ]
     },
     "metadata": {},
     "output_type": "display_data"
    }
   ],
   "source": [
    "# plot the data\n",
    "plt.scatter(X, Y)"
   ]
  },
  {
   "cell_type": "code",
   "execution_count": 10,
   "metadata": {},
   "outputs": [
    {
     "data": {
      "text/plain": [
       "<matplotlib.collections.PathCollection at 0x31ef7f510>"
      ]
     },
     "execution_count": 10,
     "metadata": {},
     "output_type": "execute_result"
    },
    {
     "data": {
      "image/png": "[encoded data removed]",
      "text/plain": [
       "<Figure size 640x480 with 1 Axes>"
      ]
     },
     "metadata": {},
     "output_type": "display_data"
    }
   ],
   "source": [
    "Y = np.log(Y)  # Linearizing data\n",
    "\n",
    "plt.scatter(X, Y)"
   ]
  },
  {
   "cell_type": "code",
   "execution_count": 11,
   "metadata": {},
   "outputs": [],
   "source": [
    "X = X - X.mean()"
   ]
  },
  {
   "cell_type": "code",
   "execution_count": 14,
   "metadata": {},
   "outputs": [],
   "source": [
    "model = tf.keras.models.Sequential(\n",
    "    [\n",
    "        tf.keras.layers.Input(shape=(1,)),\n",
    "        tf.keras.layers.Dense(1),\n",
    "    ]\n",
    ")"
   ]
  },
  {
   "cell_type": "code",
   "execution_count": 15,
   "metadata": {},
   "outputs": [
    {
     "name": "stderr",
     "output_type": "stream",
     "text": [
      "WARNING:absl:At this time, the v2.11+ optimizer `tf.keras.optimizers.SGD` runs slowly on M1/M2 Macs, please use the legacy Keras optimizer instead, located at `tf.keras.optimizers.legacy.SGD`.\n",
      "WARNING:absl:There is a known slowdown when using v2.11+ Keras optimizers on M1/M2 Macs. Falling back to the legacy Keras optimizer, i.e., `tf.keras.optimizers.legacy.SGD`.\n"
     ]
    }
   ],
   "source": [
    "model.compile(\n",
    "    optimizer=tf.keras.optimizers.SGD(0.001, 0.9),\n",
    "    loss='mse',\n",
    ")"
   ]
  },
  {
   "cell_type": "code",
   "execution_count": 16,
   "metadata": {},
   "outputs": [],
   "source": [
    "def schedule(epoch, lr):\n",
    "    if epoch >= 50:\n",
    "        return 0.0001\n",
    "    return 0.001\n",
    "\n",
    "\n",
    "scheduler = tf.keras.callbacks.LearningRateScheduler(schedule)"
   ]
  },
  {
   "cell_type": "code",
   "execution_count": null,
   "metadata": {},
   "outputs": [
    {
     "name": "stdout",
     "output_type": "stream",
     "text": [
      "Epoch 1/200\n",
      "6/6 [==============================] - 0s 741us/step - loss: 577.3365 - lr: 0.0010\n",
      "Epoch 2/200\n",
      "6/6 [==============================] - 0s 358us/step - loss: 368.8368 - lr: 0.0010\n",
      "Epoch 3/200\n",
      "6/6 [==============================] - 0s 359us/step - loss: 300.0791 - lr: 0.0010\n",
      "Epoch 4/200\n",
      "6/6 [==============================] - 0s 356us/step - loss: 337.4786 - lr: 0.0010\n",
      "Epoch 5/200\n",
      "6/6 [==============================] - 0s 384us/step - loss: 255.4919 - lr: 0.0010\n",
      "Epoch 6/200\n",
      "6/6 [==============================] - 0s 350us/step - loss: 149.7832 - lr: 0.0010\n",
      "Epoch 7/200\n",
      "6/6 [==============================] - 0s 351us/step - loss: 98.7218 - lr: 0.0010\n",
      "Epoch 8/200\n",
      "6/6 [==============================] - 0s 364us/step - loss: 84.6936 - lr: 0.0010\n",
      "Epoch 9/200\n",
      "6/6 [==============================] - 0s 407us/step - loss: 50.0558 - lr: 0.0010\n",
      "Epoch 10/200\n",
      "6/6 [==============================] - 0s 406us/step - loss: 52.6883 - lr: 0.0010\n",
      "Epoch 11/200\n",
      "6/6 [==============================] - 0s 370us/step - loss: 50.9481 - lr: 0.0010\n",
      "Epoch 12/200\n",
      "6/6 [==============================] - 0s 497us/step - loss: 34.3974 - lr: 0.0010\n",
      "Epoch 13/200\n",
      "6/6 [==============================] - 0s 341us/step - loss: 26.0531 - lr: 0.0010\n",
      "Epoch 14/200\n",
      "6/6 [==============================] - 0s 370us/step - loss: 21.8671 - lr: 0.0010\n",
      "Epoch 15/200\n",
      "6/6 [==============================] - 0s 478us/step - loss: 14.4671 - lr: 0.0010\n",
      "Epoch 16/200\n",
      "6/6 [==============================] - 0s 333us/step - loss: 8.5194 - lr: 0.0010\n",
      "Epoch 17/200\n",
      "6/6 [==============================] - 0s 391us/step - loss: 6.0571 - lr: 0.0010\n",
      "Epoch 18/200\n",
      "6/6 [==============================] - 0s 452us/step - loss: 4.2808 - lr: 0.0010\n",
      "Epoch 19/200\n",
      "6/6 [==============================] - 0s 322us/step - loss: 4.9636 - lr: 0.0010\n",
      "Epoch 20/200\n",
      "6/6 [==============================] - 0s 392us/step - loss: 4.2395 - lr: 0.0010\n",
      "Epoch 21/200\n",
      "6/6 [==============================] - 0s 488us/step - loss: 5.0625 - lr: 0.0010\n",
      "Epoch 22/200\n",
      "6/6 [==============================] - 0s 426us/step - loss: 2.6927 - lr: 0.0010\n",
      "Epoch 23/200\n",
      "6/6 [==============================] - 0s 322us/step - loss: 2.0754 - lr: 0.0010\n",
      "Epoch 24/200\n",
      "6/6 [==============================] - 0s 379us/step - loss: 1.8798 - lr: 0.0010\n",
      "Epoch 25/200\n",
      "6/6 [==============================] - 0s 432us/step - loss: 1.4047 - lr: 0.0010\n",
      "Epoch 26/200\n",
      "6/6 [==============================] - 0s 337us/step - loss: 1.2967 - lr: 0.0010\n",
      "Epoch 27/200\n"
     ]
    },
    {
     "name": "stderr",
     "output_type": "stream",
     "text": [
      "2024-12-22 13:31:52.009775: W tensorflow/tsl/platform/profile_utils/cpu_utils.cc:128] Failed to get CPU frequency: 0 Hz\n"
     ]
    },
    {
     "name": "stdout",
     "output_type": "stream",
     "text": [
      "6/6 [==============================] - 0s 332us/step - loss: 1.1396 - lr: 0.0010\n",
      "Epoch 28/200\n",
      "6/6 [==============================] - 0s 359us/step - loss: 1.4780 - lr: 0.0010\n",
      "Epoch 29/200\n",
      "6/6 [==============================] - 0s 423us/step - loss: 1.3703 - lr: 0.0010\n",
      "Epoch 30/200\n",
      "6/6 [==============================] - 0s 394us/step - loss: 1.5528 - lr: 0.0010\n",
      "Epoch 31/200\n",
      "6/6 [==============================] - 0s 351us/step - loss: 1.5280 - lr: 0.0010\n",
      "Epoch 32/200\n",
      "6/6 [==============================] - 0s 410us/step - loss: 1.7821 - lr: 0.0010\n",
      "Epoch 33/200\n",
      "6/6 [==============================] - 0s 444us/step - loss: 1.7192 - lr: 0.0010\n",
      "Epoch 34/200\n",
      "6/6 [==============================] - 0s 355us/step - loss: 0.9694 - lr: 0.0010\n",
      "Epoch 35/200\n",
      "6/6 [==============================] - 0s 332us/step - loss: 1.2610 - lr: 0.0010\n",
      "Epoch 36/200\n",
      "6/6 [==============================] - 0s 402us/step - loss: 1.0085 - lr: 0.0010\n",
      "Epoch 37/200\n",
      "6/6 [==============================] - 0s 317us/step - loss: 1.0540 - lr: 0.0010\n",
      "Epoch 38/200\n",
      "6/6 [==============================] - 0s 304us/step - loss: 1.4091 - lr: 0.0010\n",
      "Epoch 39/200\n",
      "6/6 [==============================] - 0s 397us/step - loss: 1.6024 - lr: 0.0010\n",
      "Epoch 40/200\n",
      "6/6 [==============================] - 0s 317us/step - loss: 1.7811 - lr: 0.0010\n",
      "Epoch 41/200\n",
      "6/6 [==============================] - 0s 323us/step - loss: 1.2777 - lr: 0.0010\n",
      "Epoch 42/200\n",
      "6/6 [==============================] - 0s 384us/step - loss: 1.2310 - lr: 0.0010\n",
      "Epoch 43/200\n",
      "6/6 [==============================] - 0s 312us/step - loss: 1.2700 - lr: 0.0010\n",
      "Epoch 44/200\n",
      "6/6 [==============================] - 0s 373us/step - loss: 1.0701 - lr: 0.0010\n",
      "Epoch 45/200\n",
      "6/6 [==============================] - 0s 430us/step - loss: 0.9407 - lr: 0.0010\n",
      "Epoch 46/200\n",
      "6/6 [==============================] - 0s 311us/step - loss: 0.8885 - lr: 0.0010\n",
      "Epoch 47/200\n",
      "6/6 [==============================] - 0s 609us/step - loss: 0.8946 - lr: 0.0010\n",
      "Epoch 48/200\n",
      "6/6 [==============================] - 0s 305us/step - loss: 0.9013 - lr: 0.0010\n",
      "Epoch 49/200\n",
      "6/6 [==============================] - 0s 311us/step - loss: 1.1101 - lr: 0.0010\n",
      "Epoch 50/200\n",
      "6/6 [==============================] - 0s 402us/step - loss: 1.1299 - lr: 0.0010\n",
      "Epoch 51/200\n",
      "6/6 [==============================] - 0s 325us/step - loss: 1.8396 - lr: 1.0000e-04\n",
      "Epoch 52/200\n",
      "6/6 [==============================] - 0s 389us/step - loss: 1.5232 - lr: 1.0000e-04\n",
      "Epoch 53/200\n",
      "6/6 [==============================] - 0s 328us/step - loss: 0.8901 - lr: 1.0000e-04\n",
      "Epoch 54/200\n",
      "6/6 [==============================] - 0s 360us/step - loss: 1.0707 - lr: 1.0000e-04\n",
      "Epoch 55/200\n",
      "6/6 [==============================] - 0s 409us/step - loss: 0.9564 - lr: 1.0000e-04\n",
      "Epoch 56/200\n",
      "6/6 [==============================] - 0s 308us/step - loss: 0.8898 - lr: 1.0000e-04\n",
      "Epoch 57/200\n",
      "6/6 [==============================] - 0s 315us/step - loss: 0.9134 - lr: 1.0000e-04\n",
      "Epoch 58/200\n",
      "6/6 [==============================] - 0s 427us/step - loss: 0.8772 - lr: 1.0000e-04\n",
      "Epoch 59/200\n",
      "6/6 [==============================] - 0s 336us/step - loss: 0.8762 - lr: 1.0000e-04\n",
      "Epoch 60/200\n",
      "6/6 [==============================] - 0s 300us/step - loss: 0.8730 - lr: 1.0000e-04\n",
      "Epoch 61/200\n",
      "6/6 [==============================] - 0s 385us/step - loss: 0.9263 - lr: 1.0000e-04\n",
      "Epoch 62/200\n",
      "6/6 [==============================] - 0s 309us/step - loss: 0.9423 - lr: 1.0000e-04\n",
      "Epoch 63/200\n",
      "6/6 [==============================] - 0s 296us/step - loss: 0.8792 - lr: 1.0000e-04\n",
      "Epoch 64/200\n",
      "6/6 [==============================] - 0s 356us/step - loss: 0.8822 - lr: 1.0000e-04\n",
      "Epoch 65/200\n",
      "6/6 [==============================] - 0s 302us/step - loss: 0.8940 - lr: 1.0000e-04\n",
      "Epoch 66/200\n",
      "6/6 [==============================] - 0s 362us/step - loss: 0.8819 - lr: 1.0000e-04\n",
      "Epoch 67/200\n",
      "6/6 [==============================] - 0s 374us/step - loss: 0.9271 - lr: 1.0000e-04\n",
      "Epoch 68/200\n",
      "6/6 [==============================] - 0s 318us/step - loss: 0.9482 - lr: 1.0000e-04\n",
      "Epoch 69/200\n",
      "6/6 [==============================] - 0s 337us/step - loss: 0.8717 - lr: 1.0000e-04\n",
      "Epoch 70/200\n",
      "6/6 [==============================] - 0s 396us/step - loss: 0.9098 - lr: 1.0000e-04\n",
      "Epoch 71/200\n",
      "6/6 [==============================] - 0s 294us/step - loss: 0.8929 - lr: 1.0000e-04\n",
      "Epoch 72/200\n",
      "6/6 [==============================] - 0s 302us/step - loss: 0.8766 - lr: 1.0000e-04\n",
      "Epoch 73/200\n",
      "6/6 [==============================] - 0s 351us/step - loss: 0.8720 - lr: 1.0000e-04\n",
      "Epoch 74/200\n",
      "6/6 [==============================] - 0s 337us/step - loss: 0.8716 - lr: 1.0000e-04\n",
      "Epoch 75/200\n",
      "6/6 [==============================] - 0s 308us/step - loss: 0.8711 - lr: 1.0000e-04\n",
      "Epoch 76/200\n",
      "6/6 [==============================] - 0s 326us/step - loss: 0.8710 - lr: 1.0000e-04\n",
      "Epoch 77/200\n",
      "6/6 [==============================] - 0s 293us/step - loss: 0.8707 - lr: 1.0000e-04\n",
      "Epoch 78/200\n",
      "6/6 [==============================] - 0s 360us/step - loss: 0.8738 - lr: 1.0000e-04\n",
      "Epoch 79/200\n",
      "6/6 [==============================] - 0s 350us/step - loss: 0.8719 - lr: 1.0000e-04\n",
      "Epoch 80/200\n",
      "6/6 [==============================] - 0s 315us/step - loss: 0.8718 - lr: 1.0000e-04\n",
      "Epoch 81/200\n",
      "6/6 [==============================] - 0s 315us/step - loss: 0.8719 - lr: 1.0000e-04\n",
      "Epoch 82/200\n",
      "6/6 [==============================] - 0s 429us/step - loss: 0.8708 - lr: 1.0000e-04\n",
      "Epoch 83/200\n",
      "6/6 [==============================] - 0s 315us/step - loss: 0.8710 - lr: 1.0000e-04\n",
      "Epoch 84/200\n",
      "6/6 [==============================] - 0s 307us/step - loss: 0.8830 - lr: 1.0000e-04\n",
      "Epoch 85/200\n",
      "6/6 [==============================] - 0s 308us/step - loss: 0.8848 - lr: 1.0000e-04\n",
      "Epoch 86/200\n",
      "6/6 [==============================] - 0s 352us/step - loss: 0.8751 - lr: 1.0000e-04\n",
      "Epoch 87/200\n",
      "6/6 [==============================] - 0s 295us/step - loss: 0.8797 - lr: 1.0000e-04\n",
      "Epoch 88/200\n",
      "6/6 [==============================] - 0s 303us/step - loss: 0.8763 - lr: 1.0000e-04\n",
      "Epoch 89/200\n",
      "6/6 [==============================] - 0s 294us/step - loss: 0.8734 - lr: 1.0000e-04\n",
      "Epoch 90/200\n",
      "6/6 [==============================] - 0s 357us/step - loss: 0.8786 - lr: 1.0000e-04\n",
      "Epoch 91/200\n",
      "6/6 [==============================] - 0s 341us/step - loss: 0.8792 - lr: 1.0000e-04\n",
      "Epoch 92/200\n",
      "6/6 [==============================] - 0s 348us/step - loss: 0.8758 - lr: 1.0000e-04\n",
      "Epoch 93/200\n",
      "6/6 [==============================] - 0s 304us/step - loss: 0.8702 - lr: 1.0000e-04\n",
      "Epoch 94/200\n",
      "6/6 [==============================] - 0s 446us/step - loss: 0.8772 - lr: 1.0000e-04\n",
      "Epoch 95/200\n",
      "6/6 [==============================] - 0s 383us/step - loss: 0.8862 - lr: 1.0000e-04\n",
      "Epoch 96/200\n",
      "6/6 [==============================] - 0s 305us/step - loss: 0.8901 - lr: 1.0000e-04\n",
      "Epoch 97/200\n",
      "6/6 [==============================] - 0s 2ms/step - loss: 0.8792 - lr: 1.0000e-04\n",
      "Epoch 98/200\n",
      "6/6 [==============================] - 0s 2ms/step - loss: 0.9555 - lr: 1.0000e-04\n",
      "Epoch 99/200\n",
      "6/6 [==============================] - 0s 923us/step - loss: 0.9308 - lr: 1.0000e-04\n",
      "Epoch 100/200\n",
      "6/6 [==============================] - 0s 415us/step - loss: 0.8771 - lr: 1.0000e-04\n",
      "Epoch 101/200\n",
      "6/6 [==============================] - 0s 383us/step - loss: 0.8879 - lr: 1.0000e-04\n",
      "Epoch 102/200\n",
      "6/6 [==============================] - 0s 411us/step - loss: 0.8736 - lr: 1.0000e-04\n",
      "Epoch 103/200\n",
      "6/6 [==============================] - 0s 343us/step - loss: 0.8823 - lr: 1.0000e-04\n",
      "Epoch 104/200\n",
      "6/6 [==============================] - 0s 706us/step - loss: 0.8819 - lr: 1.0000e-04\n",
      "Epoch 105/200\n",
      "6/6 [==============================] - 0s 473us/step - loss: 0.8810 - lr: 1.0000e-04\n",
      "Epoch 106/200\n",
      "6/6 [==============================] - 0s 613us/step - loss: 0.8779 - lr: 1.0000e-04\n",
      "Epoch 107/200\n",
      "6/6 [==============================] - 0s 731us/step - loss: 0.8730 - lr: 1.0000e-04\n",
      "Epoch 108/200\n",
      "6/6 [==============================] - 0s 479us/step - loss: 0.8708 - lr: 1.0000e-04\n",
      "Epoch 109/200\n",
      "6/6 [==============================] - 0s 834us/step - loss: 0.8714 - lr: 1.0000e-04\n",
      "Epoch 110/200\n",
      "6/6 [==============================] - 0s 781us/step - loss: 0.8694 - lr: 1.0000e-04\n",
      "Epoch 111/200\n",
      "6/6 [==============================] - 0s 555us/step - loss: 0.8759 - lr: 1.0000e-04\n",
      "Epoch 112/200\n",
      "6/6 [==============================] - 0s 550us/step - loss: 0.8763 - lr: 1.0000e-04\n",
      "Epoch 113/200\n",
      "6/6 [==============================] - 0s 626us/step - loss: 0.8704 - lr: 1.0000e-04\n",
      "Epoch 114/200\n",
      "6/6 [==============================] - 0s 453us/step - loss: 0.8724 - lr: 1.0000e-04\n",
      "Epoch 115/200\n",
      "6/6 [==============================] - 0s 936us/step - loss: 0.8705 - lr: 1.0000e-04\n",
      "Epoch 116/200\n",
      "6/6 [==============================] - 0s 526us/step - loss: 0.8718 - lr: 1.0000e-04\n",
      "Epoch 117/200\n",
      "6/6 [==============================] - 0s 753us/step - loss: 0.8711 - lr: 1.0000e-04\n",
      "Epoch 118/200\n",
      "6/6 [==============================] - 0s 558us/step - loss: 0.8704 - lr: 1.0000e-04\n",
      "Epoch 119/200\n",
      "6/6 [==============================] - 0s 560us/step - loss: 0.8759 - lr: 1.0000e-04\n",
      "Epoch 120/200\n",
      "6/6 [==============================] - 0s 625us/step - loss: 0.8721 - lr: 1.0000e-04\n",
      "Epoch 121/200\n",
      "6/6 [==============================] - 0s 714us/step - loss: 0.8763 - lr: 1.0000e-04\n",
      "Epoch 122/200\n",
      "6/6 [==============================] - 0s 647us/step - loss: 0.8755 - lr: 1.0000e-04\n",
      "Epoch 123/200\n",
      "6/6 [==============================] - 0s 460us/step - loss: 0.8710 - lr: 1.0000e-04\n",
      "Epoch 124/200\n",
      "6/6 [==============================] - 0s 610us/step - loss: 0.8749 - lr: 1.0000e-04\n",
      "Epoch 125/200\n",
      "6/6 [==============================] - 0s 354us/step - loss: 0.8869 - lr: 1.0000e-04\n",
      "Epoch 126/200\n",
      "6/6 [==============================] - 0s 367us/step - loss: 0.8831 - lr: 1.0000e-04\n",
      "Epoch 127/200\n",
      "6/6 [==============================] - 0s 370us/step - loss: 0.8710 - lr: 1.0000e-04\n",
      "Epoch 128/200\n",
      "6/6 [==============================] - 0s 340us/step - loss: 0.8740 - lr: 1.0000e-04\n",
      "Epoch 129/200\n",
      "6/6 [==============================] - 0s 339us/step - loss: 0.8719 - lr: 1.0000e-04\n",
      "Epoch 130/200\n",
      "6/6 [==============================] - 0s 375us/step - loss: 0.8799 - lr: 1.0000e-04\n",
      "Epoch 131/200\n",
      "6/6 [==============================] - 0s 343us/step - loss: 0.8799 - lr: 1.0000e-04\n",
      "Epoch 132/200\n",
      "6/6 [==============================] - 0s 308us/step - loss: 0.8731 - lr: 1.0000e-04\n",
      "Epoch 133/200\n",
      "6/6 [==============================] - 0s 341us/step - loss: 0.8712 - lr: 1.0000e-04\n",
      "Epoch 134/200\n",
      "6/6 [==============================] - 0s 369us/step - loss: 0.8717 - lr: 1.0000e-04\n",
      "Epoch 135/200\n",
      "6/6 [==============================] - 0s 410us/step - loss: 0.8828 - lr: 1.0000e-04\n",
      "Epoch 136/200\n",
      "6/6 [==============================] - 0s 302us/step - loss: 0.9142 - lr: 1.0000e-04\n",
      "Epoch 137/200\n",
      "6/6 [==============================] - 0s 307us/step - loss: 0.8738 - lr: 1.0000e-04\n",
      "Epoch 138/200\n",
      "6/6 [==============================] - 0s 314us/step - loss: 0.8839 - lr: 1.0000e-04\n",
      "Epoch 139/200\n",
      "6/6 [==============================] - 0s 345us/step - loss: 0.8778 - lr: 1.0000e-04\n",
      "Epoch 140/200\n",
      "6/6 [==============================] - 0s 313us/step - loss: 0.8750 - lr: 1.0000e-04\n",
      "Epoch 141/200\n",
      "6/6 [==============================] - 0s 368us/step - loss: 0.8819 - lr: 1.0000e-04\n",
      "Epoch 142/200\n",
      "6/6 [==============================] - 0s 312us/step - loss: 0.8649 - lr: 1.0000e-04\n",
      "Epoch 143/200\n",
      "6/6 [==============================] - 0s 385us/step - loss: 0.9248 - lr: 1.0000e-04\n",
      "Epoch 144/200\n",
      "6/6 [==============================] - 0s 342us/step - loss: 0.8742 - lr: 1.0000e-04\n",
      "Epoch 145/200\n",
      "6/6 [==============================] - 0s 302us/step - loss: 0.9544 - lr: 1.0000e-04\n",
      "Epoch 146/200\n",
      "6/6 [==============================] - 0s 307us/step - loss: 0.8936 - lr: 1.0000e-04\n",
      "Epoch 147/200\n",
      "6/6 [==============================] - 0s 443us/step - loss: 0.8803 - lr: 1.0000e-04\n",
      "Epoch 148/200\n",
      "6/6 [==============================] - 0s 304us/step - loss: 0.8736 - lr: 1.0000e-04\n",
      "Epoch 149/200\n",
      "6/6 [==============================] - 0s 331us/step - loss: 0.8785 - lr: 1.0000e-04\n",
      "Epoch 150/200\n",
      "6/6 [==============================] - 0s 311us/step - loss: 0.8704 - lr: 1.0000e-04\n",
      "Epoch 151/200\n",
      "6/6 [==============================] - 0s 317us/step - loss: 0.8745 - lr: 1.0000e-04\n",
      "Epoch 152/200\n",
      "6/6 [==============================] - 0s 356us/step - loss: 0.8838 - lr: 1.0000e-04\n",
      "Epoch 153/200\n",
      "6/6 [==============================] - 0s 345us/step - loss: 0.8795 - lr: 1.0000e-04\n",
      "Epoch 154/200\n",
      "6/6 [==============================] - 0s 302us/step - loss: 0.8724 - lr: 1.0000e-04\n",
      "Epoch 155/200\n",
      "6/6 [==============================] - 0s 529us/step - loss: 0.8725 - lr: 1.0000e-04\n",
      "Epoch 156/200\n",
      "6/6 [==============================] - 0s 397us/step - loss: 0.8745 - lr: 1.0000e-04\n",
      "Epoch 157/200\n",
      "6/6 [==============================] - 0s 304us/step - loss: 0.8697 - lr: 1.0000e-04\n",
      "Epoch 158/200\n",
      "6/6 [==============================] - 0s 2ms/step - loss: 0.8758 - lr: 1.0000e-04\n",
      "Epoch 159/200\n",
      "6/6 [==============================] - 0s 947us/step - loss: 0.8926 - lr: 1.0000e-04\n",
      "Epoch 160/200\n",
      "6/6 [==============================] - 0s 322us/step - loss: 0.8751 - lr: 1.0000e-04\n",
      "Epoch 161/200\n",
      "6/6 [==============================] - 0s 413us/step - loss: 0.8826 - lr: 1.0000e-04\n",
      "Epoch 162/200\n",
      "6/6 [==============================] - 0s 345us/step - loss: 0.8769 - lr: 1.0000e-04\n",
      "Epoch 163/200\n",
      "6/6 [==============================] - 0s 461us/step - loss: 0.8752 - lr: 1.0000e-04\n",
      "Epoch 164/200\n",
      "6/6 [==============================] - 0s 348us/step - loss: 0.8699 - lr: 1.0000e-04\n",
      "Epoch 165/200\n",
      "6/6 [==============================] - 0s 441us/step - loss: 0.8772 - lr: 1.0000e-04\n",
      "Epoch 166/200\n",
      "6/6 [==============================] - 0s 315us/step - loss: 0.8725 - lr: 1.0000e-04\n",
      "Epoch 167/200\n",
      "6/6 [==============================] - 0s 385us/step - loss: 0.9114 - lr: 1.0000e-04\n",
      "Epoch 168/200\n",
      "6/6 [==============================] - 0s 409us/step - loss: 0.9148 - lr: 1.0000e-04\n",
      "Epoch 169/200\n",
      "6/6 [==============================] - 0s 499us/step - loss: 0.8762 - lr: 1.0000e-04\n",
      "Epoch 170/200\n",
      "6/6 [==============================] - 0s 425us/step - loss: 0.8726 - lr: 1.0000e-04\n",
      "Epoch 171/200\n",
      "6/6 [==============================] - 0s 335us/step - loss: 0.8836 - lr: 1.0000e-04\n",
      "Epoch 172/200\n",
      "6/6 [==============================] - 0s 353us/step - loss: 0.8877 - lr: 1.0000e-04\n",
      "Epoch 173/200\n",
      "6/6 [==============================] - 0s 436us/step - loss: 0.8757 - lr: 1.0000e-04\n",
      "Epoch 174/200\n",
      "6/6 [==============================] - 0s 343us/step - loss: 0.8709 - lr: 1.0000e-04\n",
      "Epoch 175/200\n",
      "6/6 [==============================] - 0s 498us/step - loss: 0.8809 - lr: 1.0000e-04\n",
      "Epoch 176/200\n",
      "6/6 [==============================] - 0s 327us/step - loss: 0.8832 - lr: 1.0000e-04\n",
      "Epoch 177/200\n",
      "6/6 [==============================] - 0s 341us/step - loss: 0.8865 - lr: 1.0000e-04\n",
      "Epoch 178/200\n",
      "6/6 [==============================] - 0s 317us/step - loss: 0.8829 - lr: 1.0000e-04\n",
      "Epoch 179/200\n",
      "6/6 [==============================] - 0s 336us/step - loss: 0.8725 - lr: 1.0000e-04\n",
      "Epoch 180/200\n",
      "6/6 [==============================] - 0s 312us/step - loss: 0.8798 - lr: 1.0000e-04\n",
      "Epoch 181/200\n",
      "6/6 [==============================] - 0s 308us/step - loss: 0.8732 - lr: 1.0000e-04\n",
      "Epoch 182/200\n",
      "6/6 [==============================] - 0s 302us/step - loss: 0.8789 - lr: 1.0000e-04\n",
      "Epoch 183/200\n",
      "6/6 [==============================] - 0s 360us/step - loss: 0.8906 - lr: 1.0000e-04\n",
      "Epoch 184/200\n",
      "6/6 [==============================] - 0s 375us/step - loss: 0.8695 - lr: 1.0000e-04\n",
      "Epoch 185/200\n",
      "6/6 [==============================] - 0s 321us/step - loss: 0.8739 - lr: 1.0000e-04\n",
      "Epoch 186/200\n",
      "6/6 [==============================] - 0s 315us/step - loss: 0.8836 - lr: 1.0000e-04\n",
      "Epoch 187/200\n",
      "6/6 [==============================] - 0s 397us/step - loss: 0.8771 - lr: 1.0000e-04\n",
      "Epoch 188/200\n",
      "6/6 [==============================] - 0s 300us/step - loss: 0.9297 - lr: 1.0000e-04\n",
      "Epoch 189/200\n",
      "6/6 [==============================] - 0s 294us/step - loss: 0.9012 - lr: 1.0000e-04\n",
      "Epoch 190/200\n",
      "6/6 [==============================] - 0s 374us/step - loss: 0.8721 - lr: 1.0000e-04\n",
      "Epoch 191/200\n",
      "6/6 [==============================] - 0s 358us/step - loss: 0.8804 - lr: 1.0000e-04\n",
      "Epoch 192/200\n",
      "6/6 [==============================] - 0s 341us/step - loss: 0.8796 - lr: 1.0000e-04\n",
      "Epoch 193/200\n",
      "6/6 [==============================] - 0s 343us/step - loss: 0.8777 - lr: 1.0000e-04\n",
      "Epoch 194/200\n",
      "6/6 [==============================] - 0s 332us/step - loss: 0.8713 - lr: 1.0000e-04\n",
      "Epoch 195/200\n",
      "6/6 [==============================] - 0s 2ms/step - loss: 0.8708 - lr: 1.0000e-04\n",
      "Epoch 196/200\n",
      "6/6 [==============================] - 0s 1ms/step - loss: 0.8777 - lr: 1.0000e-04\n",
      "Epoch 197/200\n",
      "6/6 [==============================] - 0s 433us/step - loss: 0.8717 - lr: 1.0000e-04\n",
      "Epoch 198/200\n",
      "6/6 [==============================] - 0s 489us/step - loss: 0.8758 - lr: 1.0000e-04\n",
      "Epoch 199/200\n",
      "6/6 [==============================] - 0s 359us/step - loss: 0.8972 - lr: 1.0000e-04\n",
      "Epoch 200/200\n",
      "6/6 [==============================] - 0s 392us/step - loss: 0.8753 - lr: 1.0000e-04\n"
     ]
    }
   ],
   "source": [
    "r = model.fit(X, Y, epochs=200, callbacks=[scheduler])"
   ]
  },
  {
   "cell_type": "code",
   "execution_count": 18,
   "metadata": {},
   "outputs": [
    {
     "data": {
      "text/plain": [
       "<matplotlib.legend.Legend at 0x320afe1d0>"
      ]
     },
     "execution_count": 18,
     "metadata": {},
     "output_type": "execute_result"
    },
    {
     "data": {
      "image/png": "[encoded data removed]",
      "text/plain": [
       "<Figure size 640x480 with 1 Axes>"
      ]
     },
     "metadata": {},
     "output_type": "display_data"
    }
   ],
   "source": [
    "# Plot the loss\n",
    "plt.plot(r.history['loss'], label='loss')\n",
    "plt.legend()"
   ]
  },
  {
   "cell_type": "code",
   "execution_count": 19,
   "metadata": {},
   "outputs": [
    {
     "data": {
      "text/plain": [
       "[<keras.layers.core.dense.Dense at 0x320a2bd90>]"
      ]
     },
     "execution_count": 19,
     "metadata": {},
     "output_type": "execute_result"
    }
   ],
   "source": [
    "model.layers"
   ]
  },
  {
   "cell_type": "code",
   "execution_count": 20,
   "metadata": {},
   "outputs": [
    {
     "data": {
      "text/plain": [
       "[array([[0.33608156]], dtype=float32), array([17.761438], dtype=float32)]"
      ]
     },
     "execution_count": 20,
     "metadata": {},
     "output_type": "execute_result"
    }
   ],
   "source": [
    "model.layers[0].get_weights()"
   ]
  },
  {
   "cell_type": "code",
   "execution_count": 32,
   "metadata": {},
   "outputs": [],
   "source": [
    "a = model.layers[0].get_weights()[0][0, 0]"
   ]
  },
  {
   "cell_type": "code",
   "execution_count": 33,
   "metadata": {},
   "outputs": [
    {
     "data": {
      "text/plain": [
       "0.33608156"
      ]
     },
     "execution_count": 33,
     "metadata": {},
     "output_type": "execute_result"
    }
   ],
   "source": [
    "a"
   ]
  },
  {
   "cell_type": "markdown",
   "metadata": {},
   "source": [
    "## Part 2: Making predictions\n"
   ]
  },
  {
   "cell_type": "code",
   "execution_count": 34,
   "metadata": {},
   "outputs": [
    {
     "name": "stdout",
     "output_type": "stream",
     "text": [
      "6/6 [==============================] - 0s 328us/step\n"
     ]
    },
    {
     "data": {
      "text/plain": [
       "[<matplotlib.lines.Line2D at 0x31ef94a90>]"
      ]
     },
     "execution_count": 34,
     "metadata": {},
     "output_type": "execute_result"
    },
    {
     "data": {
      "image/png": "[encoded data removed]",
      "text/plain": [
       "<Figure size 640x480 with 1 Axes>"
      ]
     },
     "metadata": {},
     "output_type": "display_data"
    }
   ],
   "source": [
    "# Make sure that the line fits our data\n",
    "Y_hat = model.predict(X).flatten()\n",
    "plt.scatter(X, Y)\n",
    "plt.plot(X, Y_hat)"
   ]
  },
  {
   "cell_type": "code",
   "execution_count": 35,
   "metadata": {},
   "outputs": [
    {
     "data": {
      "text/plain": [
       "True"
      ]
     },
     "execution_count": 35,
     "metadata": {},
     "output_type": "execute_result"
    }
   ],
   "source": [
    "# Manual calculation\n",
    "\n",
    "# Get the weights\n",
    "w, b = model.layers[0].get_weights()\n",
    "\n",
    "# Reshape X because we fattened it again earlier\n",
    "X = X.reshape(-1, 1)\n",
    "\n",
    "# (N x 1) x (1 x 1) + (1) --> (N x 1)\n",
    "Y_hat_manual = (X.dot(w) + b).flatten()\n",
    "\n",
    "# Dont use == for floating points\n",
    "np.allclose(Y_hat, Y_hat_manual)"
   ]
  }
 ],
 "metadata": {
  "kernelspec": {
   "display_name": "Python 3",
   "language": "python",
   "name": "python3"
  },
  "language_info": {
   "codemirror_mode": {
    "name": "ipython",
    "version": 3
   },
   "file_extension": ".py",
   "mimetype": "text/x-python",
   "name": "python",
   "nbconvert_exporter": "python",
   "pygments_lexer": "ipython3",
   "version": "3.11.5"
  }
 },
 "nbformat": 4,
 "nbformat_minor": 2
}
