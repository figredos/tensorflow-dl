{
 "cells": [
  {
   "cell_type": "markdown",
   "metadata": {},
   "source": [
    "# Linear Classification using Breast Cancer data\n",
    "\n",
    "In this notebook is a simple implementation of using TensorFlow to build a linear regression model to classify whether a patient has breast cancer or not.\n"
   ]
  },
  {
   "cell_type": "markdown",
   "metadata": {},
   "source": [
    "## Part 1: Creating model\n"
   ]
  },
  {
   "cell_type": "markdown",
   "metadata": {},
   "source": [
    "### Importing necessary packages and functions\n",
    "\n",
    "This linear classification uses a couple of packages and functions, their usage is explained bellow:\n",
    "\n",
    "- `numpy`: rounding predictions and calculating accuracy manually\n",
    "- `tensorflow`: used to create model (the model itself with `Sequential` and its layers, with `Input` and `Dense`)\n",
    "- `matplotlib`: plotting accuracy and loss of model after training\n",
    "- `sklearn`:\n",
    "  - `datasets`:\n",
    "    - `load_breast_cancer`: function to load the breast cancer data\n",
    "  - `preprocessing`:\n",
    "    - `StandardScaler`: class used to standardize the data in a dataset\n",
    "  - `model_selection`:\n",
    "    - `train_test_split`: function to split data into training and testing\n"
   ]
  },
  {
   "cell_type": "code",
   "execution_count": 1,
   "metadata": {},
   "outputs": [],
   "source": [
    "# Importing packages and functions\n",
    "import numpy as np\n",
    "import tensorflow as tf\n",
    "import matplotlib.pyplot as plt\n",
    "\n",
    "from sklearn.datasets import load_breast_cancer\n",
    "from sklearn.preprocessing import StandardScaler\n",
    "from sklearn.model_selection import train_test_split"
   ]
  },
  {
   "cell_type": "markdown",
   "metadata": {},
   "source": [
    "### Exploratory data analysis\n",
    "\n",
    "In this section we go through the data, making note of some of its most important characteristics.\n"
   ]
  },
  {
   "cell_type": "code",
   "execution_count": 2,
   "metadata": {},
   "outputs": [
    {
     "data": {
      "text/plain": [
       "{'data': array([[1.799e+01, 1.038e+01, 1.228e+02, ..., 2.654e-01, 4.601e-01,\n",
       "         1.189e-01],\n",
       "        [2.057e+01, 1.777e+01, 1.329e+02, ..., 1.860e-01, 2.750e-01,\n",
       "         8.902e-02],\n",
       "        [1.969e+01, 2.125e+01, 1.300e+02, ..., 2.430e-01, 3.613e-01,\n",
       "         8.758e-02],\n",
       "        ...,\n",
       "        [1.660e+01, 2.808e+01, 1.083e+02, ..., 1.418e-01, 2.218e-01,\n",
       "         7.820e-02],\n",
       "        [2.060e+01, 2.933e+01, 1.401e+02, ..., 2.650e-01, 4.087e-01,\n",
       "         1.240e-01],\n",
       "        [7.760e+00, 2.454e+01, 4.792e+01, ..., 0.000e+00, 2.871e-01,\n",
       "         7.039e-02]]),\n",
       " 'target': array([0, 0, 0, 0, 0, 0, 0, 0, 0, 0, 0, 0, 0, 0, 0, 0, 0, 0, 0, 1, 1, 1,\n",
       "        0, 0, 0, 0, 0, 0, 0, 0, 0, 0, 0, 0, 0, 0, 0, 1, 0, 0, 0, 0, 0, 0,\n",
       "        0, 0, 1, 0, 1, 1, 1, 1, 1, 0, 0, 1, 0, 0, 1, 1, 1, 1, 0, 1, 0, 0,\n",
       "        1, 1, 1, 1, 0, 1, 0, 0, 1, 0, 1, 0, 0, 1, 1, 1, 0, 0, 1, 0, 0, 0,\n",
       "        1, 1, 1, 0, 1, 1, 0, 0, 1, 1, 1, 0, 0, 1, 1, 1, 1, 0, 1, 1, 0, 1,\n",
       "        1, 1, 1, 1, 1, 1, 1, 0, 0, 0, 1, 0, 0, 1, 1, 1, 0, 0, 1, 0, 1, 0,\n",
       "        0, 1, 0, 0, 1, 1, 0, 1, 1, 0, 1, 1, 1, 1, 0, 1, 1, 1, 1, 1, 1, 1,\n",
       "        1, 1, 0, 1, 1, 1, 1, 0, 0, 1, 0, 1, 1, 0, 0, 1, 1, 0, 0, 1, 1, 1,\n",
       "        1, 0, 1, 1, 0, 0, 0, 1, 0, 1, 0, 1, 1, 1, 0, 1, 1, 0, 0, 1, 0, 0,\n",
       "        0, 0, 1, 0, 0, 0, 1, 0, 1, 0, 1, 1, 0, 1, 0, 0, 0, 0, 1, 1, 0, 0,\n",
       "        1, 1, 1, 0, 1, 1, 1, 1, 1, 0, 0, 1, 1, 0, 1, 1, 0, 0, 1, 0, 1, 1,\n",
       "        1, 1, 0, 1, 1, 1, 1, 1, 0, 1, 0, 0, 0, 0, 0, 0, 0, 0, 0, 0, 0, 0,\n",
       "        0, 0, 1, 1, 1, 1, 1, 1, 0, 1, 0, 1, 1, 0, 1, 1, 0, 1, 0, 0, 1, 1,\n",
       "        1, 1, 1, 1, 1, 1, 1, 1, 1, 1, 1, 0, 1, 1, 0, 1, 0, 1, 1, 1, 1, 1,\n",
       "        1, 1, 1, 1, 1, 1, 1, 1, 1, 0, 1, 1, 1, 0, 1, 0, 1, 1, 1, 1, 0, 0,\n",
       "        0, 1, 1, 1, 1, 0, 1, 0, 1, 0, 1, 1, 1, 0, 1, 1, 1, 1, 1, 1, 1, 0,\n",
       "        0, 0, 1, 1, 1, 1, 1, 1, 1, 1, 1, 1, 1, 0, 0, 1, 0, 0, 0, 1, 0, 0,\n",
       "        1, 1, 1, 1, 1, 0, 1, 1, 1, 1, 1, 0, 1, 1, 1, 0, 1, 1, 0, 0, 1, 1,\n",
       "        1, 1, 1, 1, 0, 1, 1, 1, 1, 1, 1, 1, 0, 1, 1, 1, 1, 1, 0, 1, 1, 0,\n",
       "        1, 1, 1, 1, 1, 1, 1, 1, 1, 1, 1, 1, 0, 1, 0, 0, 1, 0, 1, 1, 1, 1,\n",
       "        1, 0, 1, 1, 0, 1, 0, 1, 1, 0, 1, 0, 1, 1, 1, 1, 1, 1, 1, 1, 0, 0,\n",
       "        1, 1, 1, 1, 1, 1, 0, 1, 1, 1, 1, 1, 1, 1, 1, 1, 1, 0, 1, 1, 1, 1,\n",
       "        1, 1, 1, 0, 1, 0, 1, 1, 0, 1, 1, 1, 1, 1, 0, 0, 1, 0, 1, 0, 1, 1,\n",
       "        1, 1, 1, 0, 1, 1, 0, 1, 0, 1, 0, 0, 1, 1, 1, 0, 1, 1, 1, 1, 1, 1,\n",
       "        1, 1, 1, 1, 1, 0, 1, 0, 0, 1, 1, 1, 1, 1, 1, 1, 1, 1, 1, 1, 1, 1,\n",
       "        1, 1, 1, 1, 1, 1, 1, 1, 1, 1, 1, 1, 0, 0, 0, 0, 0, 0, 1]),\n",
       " 'frame': None,\n",
       " 'target_names': array(['malignant', 'benign'], dtype='<U9'),\n",
       " 'DESCR': '.. _breast_cancer_dataset:\\n\\nBreast cancer wisconsin (diagnostic) dataset\\n--------------------------------------------\\n\\n**Data Set Characteristics:**\\n\\n:Number of Instances: 569\\n\\n:Number of Attributes: 30 numeric, predictive attributes and the class\\n\\n:Attribute Information:\\n    - radius (mean of distances from center to points on the perimeter)\\n    - texture (standard deviation of gray-scale values)\\n    - perimeter\\n    - area\\n    - smoothness (local variation in radius lengths)\\n    - compactness (perimeter^2 / area - 1.0)\\n    - concavity (severity of concave portions of the contour)\\n    - concave points (number of concave portions of the contour)\\n    - symmetry\\n    - fractal dimension (\"coastline approximation\" - 1)\\n\\n    The mean, standard error, and \"worst\" or largest (mean of the three\\n    worst/largest values) of these features were computed for each image,\\n    resulting in 30 features.  For instance, field 0 is Mean Radius, field\\n    10 is Radius SE, field 20 is Worst Radius.\\n\\n    - class:\\n            - WDBC-Malignant\\n            - WDBC-Benign\\n\\n:Summary Statistics:\\n\\n===================================== ====== ======\\n                                        Min    Max\\n===================================== ====== ======\\nradius (mean):                        6.981  28.11\\ntexture (mean):                       9.71   39.28\\nperimeter (mean):                     43.79  188.5\\narea (mean):                          143.5  2501.0\\nsmoothness (mean):                    0.053  0.163\\ncompactness (mean):                   0.019  0.345\\nconcavity (mean):                     0.0    0.427\\nconcave points (mean):                0.0    0.201\\nsymmetry (mean):                      0.106  0.304\\nfractal dimension (mean):             0.05   0.097\\nradius (standard error):              0.112  2.873\\ntexture (standard error):             0.36   4.885\\nperimeter (standard error):           0.757  21.98\\narea (standard error):                6.802  542.2\\nsmoothness (standard error):          0.002  0.031\\ncompactness (standard error):         0.002  0.135\\nconcavity (standard error):           0.0    0.396\\nconcave points (standard error):      0.0    0.053\\nsymmetry (standard error):            0.008  0.079\\nfractal dimension (standard error):   0.001  0.03\\nradius (worst):                       7.93   36.04\\ntexture (worst):                      12.02  49.54\\nperimeter (worst):                    50.41  251.2\\narea (worst):                         185.2  4254.0\\nsmoothness (worst):                   0.071  0.223\\ncompactness (worst):                  0.027  1.058\\nconcavity (worst):                    0.0    1.252\\nconcave points (worst):               0.0    0.291\\nsymmetry (worst):                     0.156  0.664\\nfractal dimension (worst):            0.055  0.208\\n===================================== ====== ======\\n\\n:Missing Attribute Values: None\\n\\n:Class Distribution: 212 - Malignant, 357 - Benign\\n\\n:Creator:  Dr. William H. Wolberg, W. Nick Street, Olvi L. Mangasarian\\n\\n:Donor: Nick Street\\n\\n:Date: November, 1995\\n\\nThis is a copy of UCI ML Breast Cancer Wisconsin (Diagnostic) datasets.\\nhttps://goo.gl/U2Uwz2\\n\\nFeatures are computed from a digitized image of a fine needle\\naspirate (FNA) of a breast mass.  They describe\\ncharacteristics of the cell nuclei present in the image.\\n\\nSeparating plane described above was obtained using\\nMultisurface Method-Tree (MSM-T) [K. P. Bennett, \"Decision Tree\\nConstruction Via Linear Programming.\" Proceedings of the 4th\\nMidwest Artificial Intelligence and Cognitive Science Society,\\npp. 97-101, 1992], a classification method which uses linear\\nprogramming to construct a decision tree.  Relevant features\\nwere selected using an exhaustive search in the space of 1-4\\nfeatures and 1-3 separating planes.\\n\\nThe actual linear program used to obtain the separating plane\\nin the 3-dimensional space is that described in:\\n[K. P. Bennett and O. L. Mangasarian: \"Robust Linear\\nProgramming Discrimination of Two Linearly Inseparable Sets\",\\nOptimization Methods and Software 1, 1992, 23-34].\\n\\nThis database is also available through the UW CS ftp server:\\n\\nftp ftp.cs.wisc.edu\\ncd math-prog/cpo-dataset/machine-learn/WDBC/\\n\\n.. dropdown:: References\\n\\n  - W.N. Street, W.H. Wolberg and O.L. Mangasarian. Nuclear feature extraction\\n    for breast tumor diagnosis. IS&T/SPIE 1993 International Symposium on\\n    Electronic Imaging: Science and Technology, volume 1905, pages 861-870,\\n    San Jose, CA, 1993.\\n  - O.L. Mangasarian, W.N. Street and W.H. Wolberg. Breast cancer diagnosis and\\n    prognosis via linear programming. Operations Research, 43(4), pages 570-577,\\n    July-August 1995.\\n  - W.H. Wolberg, W.N. Street, and O.L. Mangasarian. Machine learning techniques\\n    to diagnose breast cancer from fine-needle aspirates. Cancer Letters 77 (1994)\\n    163-171.\\n',\n",
       " 'feature_names': array(['mean radius', 'mean texture', 'mean perimeter', 'mean area',\n",
       "        'mean smoothness', 'mean compactness', 'mean concavity',\n",
       "        'mean concave points', 'mean symmetry', 'mean fractal dimension',\n",
       "        'radius error', 'texture error', 'perimeter error', 'area error',\n",
       "        'smoothness error', 'compactness error', 'concavity error',\n",
       "        'concave points error', 'symmetry error',\n",
       "        'fractal dimension error', 'worst radius', 'worst texture',\n",
       "        'worst perimeter', 'worst area', 'worst smoothness',\n",
       "        'worst compactness', 'worst concavity', 'worst concave points',\n",
       "        'worst symmetry', 'worst fractal dimension'], dtype='<U23'),\n",
       " 'filename': 'breast_cancer.csv',\n",
       " 'data_module': 'sklearn.datasets.data'}"
      ]
     },
     "execution_count": 2,
     "metadata": {},
     "output_type": "execute_result"
    }
   ],
   "source": [
    "# Loading data\n",
    "data = load_breast_cancer()\n",
    "data"
   ]
  },
  {
   "cell_type": "code",
   "execution_count": 3,
   "metadata": {},
   "outputs": [
    {
     "data": {
      "text/plain": [
       "sklearn.utils._bunch.Bunch"
      ]
     },
     "execution_count": 3,
     "metadata": {},
     "output_type": "execute_result"
    }
   ],
   "source": [
    "# Checking data type\n",
    "type(data)"
   ]
  },
  {
   "cell_type": "markdown",
   "metadata": {},
   "source": [
    "`sklearn`'s bunch is an extension on `dict` and it basically adds the ability of accessing a specific key as if it was an attribute.\n",
    "\n",
    "```python\n",
    "from sklearn.utils import Bunch\n",
    "\n",
    "# Creating bunch\n",
    "b = Bunch(a=1, b=2)\n",
    "\n",
    "# Both output '2'\n",
    "print(b['b'])\n",
    "print(b.b)\n",
    "```\n"
   ]
  },
  {
   "cell_type": "code",
   "execution_count": 4,
   "metadata": {},
   "outputs": [
    {
     "data": {
      "text/plain": [
       "dict_keys(['data', 'target', 'frame', 'target_names', 'DESCR', 'feature_names', 'filename', 'data_module'])"
      ]
     },
     "execution_count": 4,
     "metadata": {},
     "output_type": "execute_result"
    }
   ],
   "source": [
    "# Getting data's keys (like a dict)\n",
    "data.keys()"
   ]
  },
  {
   "cell_type": "markdown",
   "metadata": {},
   "source": [
    "The data has shape $N \\times D$, where $N$ is the number of entries, and $D$ is the number of features each entry has.\n"
   ]
  },
  {
   "cell_type": "code",
   "execution_count": 5,
   "metadata": {},
   "outputs": [
    {
     "data": {
      "text/plain": [
       "(569, 30)"
      ]
     },
     "execution_count": 5,
     "metadata": {},
     "output_type": "execute_result"
    }
   ],
   "source": [
    "# Getting data's shape\n",
    "data.data.shape  # N, D"
   ]
  },
  {
   "cell_type": "markdown",
   "metadata": {},
   "source": [
    "This is a binary classification problem so the algorithm is supposed to predict between has breast cancer (1) or doesn't breast cancer (0)\n"
   ]
  },
  {
   "cell_type": "code",
   "execution_count": 6,
   "metadata": {},
   "outputs": [
    {
     "name": "stdout",
     "output_type": "stream",
     "text": [
      "[0 0 0 0 0 0 0 0 0 0 0 0 0 0 0 0 0 0 0 1 1 1 0 0 0 0 0 0 0 0 0 0 0 0 0 0 0\n",
      " 1 0 0 0 0 0 0 0 0 1 0 1 1 1 1 1 0 0 1 0 0 1 1 1 1 0 1 0 0 1 1 1 1 0 1 0 0\n",
      " 1 0 1 0 0 1 1 1 0 0 1 0 0 0 1 1 1 0 1 1 0 0 1 1 1 0 0 1 1 1 1 0 1 1 0 1 1\n",
      " 1 1 1 1 1 1 0 0 0 1 0 0 1 1 1 0 0 1 0 1 0 0 1 0 0 1 1 0 1 1 0 1 1 1 1 0 1\n",
      " 1 1 1 1 1 1 1 1 0 1 1 1 1 0 0 1 0 1 1 0 0 1 1 0 0 1 1 1 1 0 1 1 0 0 0 1 0\n",
      " 1 0 1 1 1 0 1 1 0 0 1 0 0 0 0 1 0 0 0 1 0 1 0 1 1 0 1 0 0 0 0 1 1 0 0 1 1\n",
      " 1 0 1 1 1 1 1 0 0 1 1 0 1 1 0 0 1 0 1 1 1 1 0 1 1 1 1 1 0 1 0 0 0 0 0 0 0\n",
      " 0 0 0 0 0 0 0 1 1 1 1 1 1 0 1 0 1 1 0 1 1 0 1 0 0 1 1 1 1 1 1 1 1 1 1 1 1\n",
      " 1 0 1 1 0 1 0 1 1 1 1 1 1 1 1 1 1 1 1 1 1 0 1 1 1 0 1 0 1 1 1 1 0 0 0 1 1\n",
      " 1 1 0 1 0 1 0 1 1 1 0 1 1 1 1 1 1 1 0 0 0 1 1 1 1 1 1 1 1 1 1 1 0 0 1 0 0\n",
      " 0 1 0 0 1 1 1 1 1 0 1 1 1 1 1 0 1 1 1 0 1 1 0 0 1 1 1 1 1 1 0 1 1 1 1 1 1\n",
      " 1 0 1 1 1 1 1 0 1 1 0 1 1 1 1 1 1 1 1 1 1 1 1 0 1 0 0 1 0 1 1 1 1 1 0 1 1\n",
      " 0 1 0 1 1 0 1 0 1 1 1 1 1 1 1 1 0 0 1 1 1 1 1 1 0 1 1 1 1 1 1 1 1 1 1 0 1\n",
      " 1 1 1 1 1 1 0 1 0 1 1 0 1 1 1 1 1 0 0 1 0 1 0 1 1 1 1 1 0 1 1 0 1 0 1 0 0\n",
      " 1 1 1 0 1 1 1 1 1 1 1 1 1 1 1 0 1 0 0 1 1 1 1 1 1 1 1 1 1 1 1 1 1 1 1 1 1\n",
      " 1 1 1 1 1 1 1 0 0 0 0 0 0 1]\n",
      "['malignant' 'benign']\n",
      "(569,)\n"
     ]
    }
   ],
   "source": [
    "# Getting correct labels for test data\n",
    "print(data.target)\n",
    "\n",
    "# Getting target names\n",
    "print(data.target_names)  # 0, 1\n",
    "\n",
    "# Getting data's shape\n",
    "print(data.target.shape)"
   ]
  },
  {
   "cell_type": "code",
   "execution_count": 7,
   "metadata": {},
   "outputs": [
    {
     "data": {
      "text/plain": [
       "array(['mean radius', 'mean texture', 'mean perimeter', 'mean area',\n",
       "       'mean smoothness', 'mean compactness', 'mean concavity',\n",
       "       'mean concave points', 'mean symmetry', 'mean fractal dimension',\n",
       "       'radius error', 'texture error', 'perimeter error', 'area error',\n",
       "       'smoothness error', 'compactness error', 'concavity error',\n",
       "       'concave points error', 'symmetry error',\n",
       "       'fractal dimension error', 'worst radius', 'worst texture',\n",
       "       'worst perimeter', 'worst area', 'worst smoothness',\n",
       "       'worst compactness', 'worst concavity', 'worst concave points',\n",
       "       'worst symmetry', 'worst fractal dimension'], dtype='<U23')"
      ]
     },
     "execution_count": 7,
     "metadata": {},
     "output_type": "execute_result"
    }
   ],
   "source": [
    "# Names of features (D)\n",
    "data.feature_names"
   ]
  },
  {
   "cell_type": "code",
   "execution_count": 8,
   "metadata": {},
   "outputs": [],
   "source": [
    "# Splitting data into training and test sets\n",
    "X_train, X_test, y_train, y_test = train_test_split(\n",
    "    data.data,\n",
    "    data.target,\n",
    "    test_size=0.33,\n",
    ")"
   ]
  },
  {
   "cell_type": "code",
   "execution_count": 9,
   "metadata": {},
   "outputs": [],
   "source": [
    "# Getting number of entries and number of features respectively\n",
    "N, D = X_train.shape"
   ]
  },
  {
   "cell_type": "markdown",
   "metadata": {},
   "source": [
    "#### Scaling the data\n",
    "\n",
    "Standardization is a pre-processing technique that goes through the dataset and gives it mean 0 and variance 1. This process improves the convergence rate in the optimization process.\n",
    "\n",
    "The `fit_transform` method does the fit and transform process of standardization in one single step. It finds the parameters's mean and standard deviation for each column and standardizes the data in order for it to have mean 0 and variance 1.\n"
   ]
  },
  {
   "cell_type": "code",
   "execution_count": 10,
   "metadata": {},
   "outputs": [],
   "source": [
    "# Scaling the data\n",
    "scaler = StandardScaler()\n",
    "\n",
    "X_train = scaler.fit_transform(X_train)\n",
    "\n",
    "X_test = scaler.transform(X_test)"
   ]
  },
  {
   "cell_type": "markdown",
   "metadata": {},
   "source": [
    "### Creating, compiling and training model\n",
    "\n",
    "In this step we're going to create the model (using Keras's `Sequential`), compile it, and train it.\n"
   ]
  },
  {
   "cell_type": "markdown",
   "metadata": {},
   "source": [
    "#### Creating model\n",
    "\n",
    "The model is composed of 2 layers, an input layer, `Input` (that is hardly a layer, simply a formality) that defines the dimensionality of the data that goes into the model, and initializes the parameters. The other type of layer is a dense layer, `Dense` (that in our case only has one neuron, since we're just using it for a linear classification) with a sigmoid activation function.\n"
   ]
  },
  {
   "cell_type": "code",
   "execution_count": 11,
   "metadata": {},
   "outputs": [],
   "source": [
    "# Creating sequential model\n",
    "model = tf.keras.models.Sequential(\n",
    "    [\n",
    "        tf.keras.layers.Input(shape=(D,)),\n",
    "        tf.keras.layers.Dense(1, activation='sigmoid'),\n",
    "    ],\n",
    ")"
   ]
  },
  {
   "cell_type": "markdown",
   "metadata": {},
   "source": [
    "#### Compiling model\n",
    "\n",
    "This is where we set a couple of important hyperparameters, namely the optimizer, the loss, and the evaluation metrics to be used by the model.\n",
    "\n",
    "##### Function's arguments\n",
    "\n",
    "`optimizer` is the process used by the model in the \"learning\" process.\n",
    "\n",
    "`loss` is the function used to calculate the distance between the correct prediction and what the model has predicted, in order to adjust the weights and biases to improve the model's results.\n",
    "\n",
    "`metrics` argument takes a list of how the model's predictions should be evaluated. For a problem such as linear classification, accuracy is a good metric, whereas if this was a linear regression problem, this metric would be close to useless, and we would opt for some other metric, such as MSE (mean squared error). The reason why accuracy is a bad metric for a linear regression model, is that instead of representing the closeness to a value, it simply represents whether the model has predicted correctly or not. This implies that if the correct value was 11, and the model predicted 10.99, it would amount to a wrong answer, and be assigned a 0 even though it is almost a perfect prediction, whereas if we were using MSE the value would be close to 100%.\n"
   ]
  },
  {
   "cell_type": "code",
   "execution_count": 12,
   "metadata": {},
   "outputs": [],
   "source": [
    "# Compiling model\n",
    "model.compile(\n",
    "    optimizer='adam',\n",
    "    loss='binary_crossentropy',\n",
    "    metrics=['accuracy'],\n",
    ")"
   ]
  },
  {
   "cell_type": "code",
   "execution_count": 13,
   "metadata": {},
   "outputs": [
    {
     "name": "stdout",
     "output_type": "stream",
     "text": [
      "Epoch 1/100\n",
      "12/12 [==============================] - 0s 5ms/step - loss: 0.7135 - accuracy: 0.5722 - val_loss: 0.6847 - val_accuracy: 0.6702\n",
      "Epoch 2/100\n",
      "12/12 [==============================] - 0s 1ms/step - loss: 0.6511 - accuracy: 0.6352 - val_loss: 0.6200 - val_accuracy: 0.7234\n",
      "Epoch 3/100\n",
      "12/12 [==============================] - 0s 1ms/step - loss: 0.5955 - accuracy: 0.6798 - val_loss: 0.5639 - val_accuracy: 0.7660\n",
      "Epoch 4/100\n",
      "12/12 [==============================] - 0s 1ms/step - loss: 0.5490 - accuracy: 0.7349 - val_loss: 0.5149 - val_accuracy: 0.7766\n",
      "Epoch 5/100\n",
      "12/12 [==============================] - 0s 1ms/step - loss: 0.5086 - accuracy: 0.7953 - val_loss: 0.4727 - val_accuracy: 0.8298\n",
      "Epoch 6/100\n",
      "12/12 [==============================] - 0s 1ms/step - loss: 0.4746 - accuracy: 0.8136 - val_loss: 0.4359 - val_accuracy: 0.8617\n",
      "Epoch 7/100\n",
      "12/12 [==============================] - 0s 1ms/step - loss: 0.4443 - accuracy: 0.8294 - val_loss: 0.4044 - val_accuracy: 0.8830\n",
      "Epoch 8/100\n",
      "12/12 [==============================] - 0s 1ms/step - loss: 0.4184 - accuracy: 0.8399 - val_loss: 0.3769 - val_accuracy: 0.9043\n",
      "Epoch 9/100\n",
      "12/12 [==============================] - 0s 1ms/step - loss: 0.3958 - accuracy: 0.8609 - val_loss: 0.3524 - val_accuracy: 0.9202\n",
      "Epoch 10/100\n",
      "12/12 [==============================] - 0s 1ms/step - loss: 0.3755 - accuracy: 0.8688 - val_loss: 0.3308 - val_accuracy: 0.9362\n",
      "Epoch 11/100\n",
      "12/12 [==============================] - 0s 995us/step - loss: 0.3573 - accuracy: 0.8793 - val_loss: 0.3117 - val_accuracy: 0.9362\n",
      "Epoch 12/100\n",
      "12/12 [==============================] - 0s 1ms/step - loss: 0.3411 - accuracy: 0.8845 - val_loss: 0.2945 - val_accuracy: 0.9415\n",
      "Epoch 13/100\n",
      "12/12 [==============================] - 0s 1ms/step - loss: 0.3264 - accuracy: 0.8976 - val_loss: 0.2791 - val_accuracy: 0.9628\n",
      "Epoch 14/100\n",
      "12/12 [==============================] - 0s 1ms/step - loss: 0.3131 - accuracy: 0.9108 - val_loss: 0.2651 - val_accuracy: 0.9628\n",
      "Epoch 15/100\n",
      "12/12 [==============================] - 0s 1ms/step - loss: 0.3007 - accuracy: 0.9134 - val_loss: 0.2526 - val_accuracy: 0.9628\n",
      "Epoch 16/100\n",
      "12/12 [==============================] - 0s 1ms/step - loss: 0.2894 - accuracy: 0.9134 - val_loss: 0.2414 - val_accuracy: 0.9628\n",
      "Epoch 17/100\n",
      "12/12 [==============================] - 0s 1ms/step - loss: 0.2795 - accuracy: 0.9160 - val_loss: 0.2311 - val_accuracy: 0.9628\n",
      "Epoch 18/100\n",
      "12/12 [==============================] - 0s 1ms/step - loss: 0.2697 - accuracy: 0.9239 - val_loss: 0.2217 - val_accuracy: 0.9734\n",
      "Epoch 19/100\n",
      "12/12 [==============================] - 0s 1ms/step - loss: 0.2611 - accuracy: 0.9291 - val_loss: 0.2131 - val_accuracy: 0.9734\n",
      "Epoch 20/100\n",
      "12/12 [==============================] - 0s 1ms/step - loss: 0.2530 - accuracy: 0.9318 - val_loss: 0.2050 - val_accuracy: 0.9734\n",
      "Epoch 21/100\n",
      "12/12 [==============================] - 0s 1ms/step - loss: 0.2456 - accuracy: 0.9344 - val_loss: 0.1977 - val_accuracy: 0.9734\n",
      "Epoch 22/100\n",
      "12/12 [==============================] - 0s 1ms/step - loss: 0.2387 - accuracy: 0.9396 - val_loss: 0.1909 - val_accuracy: 0.9734\n",
      "Epoch 23/100\n",
      "12/12 [==============================] - 0s 1ms/step - loss: 0.2320 - accuracy: 0.9423 - val_loss: 0.1848 - val_accuracy: 0.9734\n",
      "Epoch 24/100\n",
      "12/12 [==============================] - 0s 1ms/step - loss: 0.2260 - accuracy: 0.9449 - val_loss: 0.1788 - val_accuracy: 0.9734\n",
      "Epoch 25/100\n",
      "12/12 [==============================] - 0s 1ms/step - loss: 0.2204 - accuracy: 0.9475 - val_loss: 0.1735 - val_accuracy: 0.9734\n",
      "Epoch 26/100\n",
      "12/12 [==============================] - 0s 1ms/step - loss: 0.2151 - accuracy: 0.9475 - val_loss: 0.1685 - val_accuracy: 0.9734\n",
      "Epoch 27/100\n",
      "12/12 [==============================] - 0s 1ms/step - loss: 0.2102 - accuracy: 0.9475 - val_loss: 0.1638 - val_accuracy: 0.9787\n",
      "Epoch 28/100\n",
      "12/12 [==============================] - 0s 1ms/step - loss: 0.2057 - accuracy: 0.9475 - val_loss: 0.1594 - val_accuracy: 0.9787\n",
      "Epoch 29/100\n",
      "12/12 [==============================] - 0s 1ms/step - loss: 0.2013 - accuracy: 0.9501 - val_loss: 0.1552 - val_accuracy: 0.9787\n",
      "Epoch 30/100\n",
      "12/12 [==============================] - 0s 1ms/step - loss: 0.1974 - accuracy: 0.9554 - val_loss: 0.1514 - val_accuracy: 0.9787\n",
      "Epoch 31/100\n",
      "12/12 [==============================] - 0s 1ms/step - loss: 0.1934 - accuracy: 0.9554 - val_loss: 0.1477 - val_accuracy: 0.9787\n",
      "Epoch 32/100\n",
      "12/12 [==============================] - 0s 1ms/step - loss: 0.1898 - accuracy: 0.9554 - val_loss: 0.1441 - val_accuracy: 0.9840\n",
      "Epoch 33/100\n",
      "12/12 [==============================] - 0s 1ms/step - loss: 0.1864 - accuracy: 0.9554 - val_loss: 0.1409 - val_accuracy: 0.9840\n",
      "Epoch 34/100\n",
      "12/12 [==============================] - 0s 1ms/step - loss: 0.1832 - accuracy: 0.9554 - val_loss: 0.1377 - val_accuracy: 0.9840\n",
      "Epoch 35/100\n",
      "12/12 [==============================] - 0s 1ms/step - loss: 0.1801 - accuracy: 0.9554 - val_loss: 0.1348 - val_accuracy: 0.9840\n",
      "Epoch 36/100\n",
      "12/12 [==============================] - 0s 1ms/step - loss: 0.1773 - accuracy: 0.9580 - val_loss: 0.1320 - val_accuracy: 0.9840\n",
      "Epoch 37/100\n",
      "12/12 [==============================] - 0s 1ms/step - loss: 0.1745 - accuracy: 0.9580 - val_loss: 0.1293 - val_accuracy: 0.9894\n",
      "Epoch 38/100\n",
      "12/12 [==============================] - 0s 1ms/step - loss: 0.1719 - accuracy: 0.9580 - val_loss: 0.1269 - val_accuracy: 0.9894\n",
      "Epoch 39/100\n",
      "12/12 [==============================] - 0s 1ms/step - loss: 0.1694 - accuracy: 0.9633 - val_loss: 0.1243 - val_accuracy: 0.9894\n",
      "Epoch 40/100\n",
      "12/12 [==============================] - 0s 1ms/step - loss: 0.1670 - accuracy: 0.9633 - val_loss: 0.1220 - val_accuracy: 0.9894\n",
      "Epoch 41/100\n",
      "12/12 [==============================] - 0s 1ms/step - loss: 0.1647 - accuracy: 0.9633 - val_loss: 0.1198 - val_accuracy: 0.9894\n",
      "Epoch 42/100\n",
      "12/12 [==============================] - 0s 1ms/step - loss: 0.1625 - accuracy: 0.9633 - val_loss: 0.1176 - val_accuracy: 0.9947\n",
      "Epoch 43/100\n",
      "12/12 [==============================] - 0s 1ms/step - loss: 0.1604 - accuracy: 0.9633 - val_loss: 0.1157 - val_accuracy: 0.9947\n",
      "Epoch 44/100\n",
      "12/12 [==============================] - 0s 1ms/step - loss: 0.1585 - accuracy: 0.9685 - val_loss: 0.1138 - val_accuracy: 0.9947\n",
      "Epoch 45/100\n",
      "12/12 [==============================] - 0s 1ms/step - loss: 0.1566 - accuracy: 0.9685 - val_loss: 0.1120 - val_accuracy: 0.9947\n",
      "Epoch 46/100\n",
      "12/12 [==============================] - 0s 1ms/step - loss: 0.1548 - accuracy: 0.9685 - val_loss: 0.1100 - val_accuracy: 0.9947\n",
      "Epoch 47/100\n",
      "12/12 [==============================] - 0s 1ms/step - loss: 0.1529 - accuracy: 0.9685 - val_loss: 0.1084 - val_accuracy: 0.9947\n",
      "Epoch 48/100\n",
      "12/12 [==============================] - 0s 1ms/step - loss: 0.1513 - accuracy: 0.9685 - val_loss: 0.1067 - val_accuracy: 0.9947\n",
      "Epoch 49/100\n",
      "12/12 [==============================] - 0s 1ms/step - loss: 0.1496 - accuracy: 0.9685 - val_loss: 0.1051 - val_accuracy: 0.9947\n",
      "Epoch 50/100\n",
      "12/12 [==============================] - 0s 1ms/step - loss: 0.1481 - accuracy: 0.9685 - val_loss: 0.1036 - val_accuracy: 0.9947\n",
      "Epoch 51/100\n",
      "12/12 [==============================] - 0s 1ms/step - loss: 0.1466 - accuracy: 0.9685 - val_loss: 0.1022 - val_accuracy: 0.9947\n",
      "Epoch 52/100\n",
      "12/12 [==============================] - 0s 1ms/step - loss: 0.1452 - accuracy: 0.9711 - val_loss: 0.1007 - val_accuracy: 0.9947\n",
      "Epoch 53/100\n",
      "12/12 [==============================] - 0s 1ms/step - loss: 0.1437 - accuracy: 0.9711 - val_loss: 0.0994 - val_accuracy: 0.9947\n",
      "Epoch 54/100\n",
      "12/12 [==============================] - 0s 1ms/step - loss: 0.1424 - accuracy: 0.9711 - val_loss: 0.0980 - val_accuracy: 0.9947\n",
      "Epoch 55/100\n",
      "12/12 [==============================] - 0s 1ms/step - loss: 0.1411 - accuracy: 0.9711 - val_loss: 0.0968 - val_accuracy: 0.9947\n",
      "Epoch 56/100\n",
      "12/12 [==============================] - 0s 1ms/step - loss: 0.1398 - accuracy: 0.9711 - val_loss: 0.0956 - val_accuracy: 0.9947\n",
      "Epoch 57/100\n",
      "12/12 [==============================] - 0s 1ms/step - loss: 0.1386 - accuracy: 0.9711 - val_loss: 0.0944 - val_accuracy: 0.9947\n",
      "Epoch 58/100\n",
      "12/12 [==============================] - 0s 1ms/step - loss: 0.1373 - accuracy: 0.9711 - val_loss: 0.0933 - val_accuracy: 0.9947\n",
      "Epoch 59/100\n",
      "12/12 [==============================] - 0s 1ms/step - loss: 0.1363 - accuracy: 0.9711 - val_loss: 0.0922 - val_accuracy: 0.9947\n",
      "Epoch 60/100\n",
      "12/12 [==============================] - 0s 1ms/step - loss: 0.1351 - accuracy: 0.9711 - val_loss: 0.0910 - val_accuracy: 0.9947\n",
      "Epoch 61/100\n",
      "12/12 [==============================] - 0s 1ms/step - loss: 0.1340 - accuracy: 0.9711 - val_loss: 0.0900 - val_accuracy: 0.9947\n",
      "Epoch 62/100\n",
      "12/12 [==============================] - 0s 1ms/step - loss: 0.1330 - accuracy: 0.9711 - val_loss: 0.0890 - val_accuracy: 0.9947\n",
      "Epoch 63/100\n",
      "12/12 [==============================] - 0s 1ms/step - loss: 0.1320 - accuracy: 0.9711 - val_loss: 0.0880 - val_accuracy: 0.9947\n",
      "Epoch 64/100\n",
      "12/12 [==============================] - 0s 1ms/step - loss: 0.1310 - accuracy: 0.9711 - val_loss: 0.0871 - val_accuracy: 0.9947\n",
      "Epoch 65/100\n",
      "12/12 [==============================] - 0s 1ms/step - loss: 0.1300 - accuracy: 0.9711 - val_loss: 0.0861 - val_accuracy: 0.9947\n",
      "Epoch 66/100\n",
      "12/12 [==============================] - 0s 1ms/step - loss: 0.1290 - accuracy: 0.9711 - val_loss: 0.0852 - val_accuracy: 0.9947\n",
      "Epoch 67/100\n",
      "12/12 [==============================] - 0s 1ms/step - loss: 0.1282 - accuracy: 0.9711 - val_loss: 0.0844 - val_accuracy: 0.9947\n",
      "Epoch 68/100\n",
      "12/12 [==============================] - 0s 1ms/step - loss: 0.1273 - accuracy: 0.9711 - val_loss: 0.0836 - val_accuracy: 0.9947\n",
      "Epoch 69/100\n",
      "12/12 [==============================] - 0s 1ms/step - loss: 0.1264 - accuracy: 0.9711 - val_loss: 0.0827 - val_accuracy: 0.9947\n",
      "Epoch 70/100\n",
      "12/12 [==============================] - 0s 1ms/step - loss: 0.1255 - accuracy: 0.9711 - val_loss: 0.0820 - val_accuracy: 0.9947\n",
      "Epoch 71/100\n",
      "12/12 [==============================] - 0s 1ms/step - loss: 0.1247 - accuracy: 0.9711 - val_loss: 0.0812 - val_accuracy: 0.9947\n",
      "Epoch 72/100\n",
      "12/12 [==============================] - 0s 1ms/step - loss: 0.1239 - accuracy: 0.9711 - val_loss: 0.0805 - val_accuracy: 0.9947\n",
      "Epoch 73/100\n",
      "12/12 [==============================] - 0s 1ms/step - loss: 0.1231 - accuracy: 0.9711 - val_loss: 0.0797 - val_accuracy: 0.9947\n",
      "Epoch 74/100\n",
      "12/12 [==============================] - 0s 1ms/step - loss: 0.1224 - accuracy: 0.9711 - val_loss: 0.0790 - val_accuracy: 0.9947\n",
      "Epoch 75/100\n",
      "12/12 [==============================] - 0s 1ms/step - loss: 0.1216 - accuracy: 0.9711 - val_loss: 0.0783 - val_accuracy: 0.9947\n",
      "Epoch 76/100\n",
      "12/12 [==============================] - 0s 1ms/step - loss: 0.1209 - accuracy: 0.9738 - val_loss: 0.0777 - val_accuracy: 0.9947\n",
      "Epoch 77/100\n",
      "12/12 [==============================] - 0s 1ms/step - loss: 0.1202 - accuracy: 0.9711 - val_loss: 0.0769 - val_accuracy: 0.9947\n",
      "Epoch 78/100\n",
      "12/12 [==============================] - 0s 1ms/step - loss: 0.1195 - accuracy: 0.9738 - val_loss: 0.0763 - val_accuracy: 0.9947\n",
      "Epoch 79/100\n",
      "12/12 [==============================] - 0s 1ms/step - loss: 0.1188 - accuracy: 0.9738 - val_loss: 0.0757 - val_accuracy: 0.9947\n",
      "Epoch 80/100\n",
      "12/12 [==============================] - 0s 1ms/step - loss: 0.1181 - accuracy: 0.9738 - val_loss: 0.0750 - val_accuracy: 0.9947\n",
      "Epoch 81/100\n",
      "12/12 [==============================] - 0s 1ms/step - loss: 0.1175 - accuracy: 0.9738 - val_loss: 0.0745 - val_accuracy: 0.9947\n",
      "Epoch 82/100\n",
      "12/12 [==============================] - 0s 1ms/step - loss: 0.1168 - accuracy: 0.9738 - val_loss: 0.0738 - val_accuracy: 0.9947\n",
      "Epoch 83/100\n",
      "12/12 [==============================] - 0s 1ms/step - loss: 0.1162 - accuracy: 0.9738 - val_loss: 0.0732 - val_accuracy: 0.9947\n",
      "Epoch 84/100\n",
      "12/12 [==============================] - 0s 1ms/step - loss: 0.1156 - accuracy: 0.9738 - val_loss: 0.0727 - val_accuracy: 0.9947\n",
      "Epoch 85/100\n",
      "12/12 [==============================] - 0s 1ms/step - loss: 0.1150 - accuracy: 0.9738 - val_loss: 0.0721 - val_accuracy: 0.9947\n",
      "Epoch 86/100\n",
      "12/12 [==============================] - 0s 1ms/step - loss: 0.1144 - accuracy: 0.9738 - val_loss: 0.0716 - val_accuracy: 0.9947\n",
      "Epoch 87/100\n",
      "12/12 [==============================] - 0s 1ms/step - loss: 0.1138 - accuracy: 0.9738 - val_loss: 0.0711 - val_accuracy: 0.9947\n",
      "Epoch 88/100\n",
      "12/12 [==============================] - 0s 1ms/step - loss: 0.1133 - accuracy: 0.9738 - val_loss: 0.0706 - val_accuracy: 0.9947\n",
      "Epoch 89/100\n",
      "12/12 [==============================] - 0s 1ms/step - loss: 0.1127 - accuracy: 0.9738 - val_loss: 0.0701 - val_accuracy: 0.9947\n",
      "Epoch 90/100\n",
      "12/12 [==============================] - 0s 1ms/step - loss: 0.1122 - accuracy: 0.9738 - val_loss: 0.0696 - val_accuracy: 0.9947\n",
      "Epoch 91/100\n",
      "12/12 [==============================] - 0s 1ms/step - loss: 0.1117 - accuracy: 0.9764 - val_loss: 0.0691 - val_accuracy: 0.9947\n",
      "Epoch 92/100\n",
      "12/12 [==============================] - 0s 1ms/step - loss: 0.1111 - accuracy: 0.9764 - val_loss: 0.0686 - val_accuracy: 0.9947\n",
      "Epoch 93/100\n",
      "12/12 [==============================] - 0s 1ms/step - loss: 0.1106 - accuracy: 0.9764 - val_loss: 0.0682 - val_accuracy: 0.9947\n",
      "Epoch 94/100\n",
      "12/12 [==============================] - 0s 1ms/step - loss: 0.1102 - accuracy: 0.9764 - val_loss: 0.0676 - val_accuracy: 0.9947\n",
      "Epoch 95/100\n",
      "12/12 [==============================] - 0s 1ms/step - loss: 0.1096 - accuracy: 0.9764 - val_loss: 0.0673 - val_accuracy: 0.9947\n",
      "Epoch 96/100\n",
      "12/12 [==============================] - 0s 1ms/step - loss: 0.1092 - accuracy: 0.9764 - val_loss: 0.0669 - val_accuracy: 0.9947\n",
      "Epoch 97/100\n",
      "12/12 [==============================] - 0s 1ms/step - loss: 0.1087 - accuracy: 0.9764 - val_loss: 0.0666 - val_accuracy: 0.9947\n",
      "Epoch 98/100\n",
      "12/12 [==============================] - 0s 1ms/step - loss: 0.1082 - accuracy: 0.9764 - val_loss: 0.0661 - val_accuracy: 0.9947\n",
      "Epoch 99/100\n",
      "12/12 [==============================] - 0s 1ms/step - loss: 0.1078 - accuracy: 0.9764 - val_loss: 0.0656 - val_accuracy: 0.9947\n",
      "Epoch 100/100\n",
      "12/12 [==============================] - 0s 1ms/step - loss: 0.1073 - accuracy: 0.9764 - val_loss: 0.0653 - val_accuracy: 0.9947\n"
     ]
    }
   ],
   "source": [
    "# Training model\n",
    "r = model.fit(X_train, y_train, validation_data=(X_test, y_test), epochs=100)"
   ]
  },
  {
   "cell_type": "markdown",
   "metadata": {},
   "source": [
    "### Evaluating model\n",
    "\n",
    "Here, we'll evaluate the accuracy of the model on the training and the test data, in order to get a good understanding of its overall performance. First, we'll evaluate the model's result on the training data. We expect this to get a higher accuracy for it has trained and improved by using this data.\n",
    "\n",
    "We observe that the model got a loss of around $0.1$ and accuracy of around $97.6 \\% $ on the training data, this is good score for a simple model. The model got even better results on the test data, with a $0.06$ for loss and $99\\%$ for accuracy, although this may be unexpected at first, it is probably due to the decreased amount of data entries for the test, when compared to the training data entries.\n",
    "\n",
    "We also plot the loss and accuracy, for the training and validation datasets.\n"
   ]
  },
  {
   "cell_type": "code",
   "execution_count": 14,
   "metadata": {},
   "outputs": [
    {
     "name": "stdout",
     "output_type": "stream",
     "text": [
      "12/12 [==============================] - 0s 336us/step - loss: 0.1070 - accuracy: 0.9764\n",
      "Train Score: [0.10702037811279297, 0.9763779640197754]\n"
     ]
    }
   ],
   "source": [
    "# Evaluating training score\n",
    "print('Train Score:', model.evaluate(X_train, y_train))"
   ]
  },
  {
   "cell_type": "code",
   "execution_count": 15,
   "metadata": {},
   "outputs": [
    {
     "name": "stdout",
     "output_type": "stream",
     "text": [
      "6/6 [==============================] - 0s 475us/step - loss: 0.0653 - accuracy: 0.9947\n",
      "Test Score: [0.06526591628789902, 0.9946808218955994]\n"
     ]
    }
   ],
   "source": [
    "# Evaluating test score\n",
    "print('Test Score:', model.evaluate(X_test, y_test))"
   ]
  },
  {
   "cell_type": "code",
   "execution_count": 16,
   "metadata": {},
   "outputs": [
    {
     "data": {
      "text/plain": [
       "<matplotlib.legend.Legend at 0x31645b650>"
      ]
     },
     "execution_count": 16,
     "metadata": {},
     "output_type": "execute_result"
    },
    {
     "data": {
      "image/png": "[encoded data removed]",
      "text/plain": [
       "<Figure size 640x480 with 1 Axes>"
      ]
     },
     "metadata": {},
     "output_type": "display_data"
    }
   ],
   "source": [
    "# Plotting loss throughout the training process\n",
    "plt.plot(r.history['loss'], label='loss')\n",
    "plt.plot(r.history['val_loss'], label='val_loss')\n",
    "plt.legend()"
   ]
  },
  {
   "cell_type": "code",
   "execution_count": 17,
   "metadata": {},
   "outputs": [
    {
     "data": {
      "text/plain": [
       "<matplotlib.legend.Legend at 0x315b0b450>"
      ]
     },
     "execution_count": 17,
     "metadata": {},
     "output_type": "execute_result"
    },
    {
     "data": {
      "image/png": "[encoded data removed]",
      "text/plain": [
       "<Figure size 640x480 with 1 Axes>"
      ]
     },
     "metadata": {},
     "output_type": "display_data"
    }
   ],
   "source": [
    "# Plotting accuracy throughout the training process\n",
    "plt.plot(r.history['accuracy'], label='accuracy')\n",
    "plt.plot(r.history['val_accuracy'], label='val_accuracy')\n",
    "plt.legend()"
   ]
  },
  {
   "cell_type": "markdown",
   "metadata": {},
   "source": [
    "## Part 2: Making predictions\n",
    "\n",
    "In this section, we basically only use the model to make predictions, using the `.predict` method, and compare those predictions to the actual labels to evaluate the model (also using the `evaluate` method, as we used it before).\n"
   ]
  },
  {
   "cell_type": "code",
   "execution_count": 18,
   "metadata": {},
   "outputs": [
    {
     "name": "stdout",
     "output_type": "stream",
     "text": [
      "6/6 [==============================] - 0s 460us/step\n"
     ]
    },
    {
     "data": {
      "text/plain": [
       "array([[9.98357952e-01],\n",
       "       [9.48522151e-01],\n",
       "       [3.87554318e-01],\n",
       "       [1.90347195e-01],\n",
       "       [9.98182893e-01],\n",
       "       [8.01679611e-01],\n",
       "       [1.85303561e-11],\n",
       "       [3.69805307e-03],\n",
       "       [9.95624781e-01],\n",
       "       [7.88157523e-01],\n",
       "       [8.07791585e-05],\n",
       "       [8.30829442e-01],\n",
       "       [7.97028005e-01],\n",
       "       [9.84237313e-01],\n",
       "       [1.15157459e-02],\n",
       "       [6.78638602e-03],\n",
       "       [3.67127880e-02],\n",
       "       [8.76520932e-01],\n",
       "       [9.71957743e-01],\n",
       "       [3.64911160e-03],\n",
       "       [9.92079079e-01],\n",
       "       [7.94064254e-02],\n",
       "       [1.26846237e-02],\n",
       "       [9.33974147e-01],\n",
       "       [4.83469164e-04],\n",
       "       [9.89429653e-01],\n",
       "       [9.96106505e-01],\n",
       "       [3.55318116e-05],\n",
       "       [9.32688057e-01],\n",
       "       [9.74971771e-01],\n",
       "       [9.90674794e-01],\n",
       "       [9.70894456e-01],\n",
       "       [2.13077813e-02],\n",
       "       [9.98266518e-01],\n",
       "       [9.99725223e-01],\n",
       "       [9.00101906e-04],\n",
       "       [2.13553067e-02],\n",
       "       [9.63742961e-04],\n",
       "       [9.22024071e-01],\n",
       "       [9.97524858e-01],\n",
       "       [9.82552171e-01],\n",
       "       [8.84112656e-01],\n",
       "       [6.58866309e-04],\n",
       "       [2.56383605e-02],\n",
       "       [9.89861667e-01],\n",
       "       [9.99409556e-01],\n",
       "       [9.95867550e-01],\n",
       "       [9.98015583e-01],\n",
       "       [9.99738097e-01],\n",
       "       [9.92211759e-01],\n",
       "       [9.85438347e-01],\n",
       "       [9.64839101e-01],\n",
       "       [1.81280509e-01],\n",
       "       [9.95936632e-01],\n",
       "       [9.88950253e-01],\n",
       "       [9.99171853e-01],\n",
       "       [2.95908812e-05],\n",
       "       [7.04819709e-03],\n",
       "       [2.97072139e-02],\n",
       "       [7.06691146e-01],\n",
       "       [9.97225285e-01],\n",
       "       [4.01219502e-02],\n",
       "       [9.98404920e-01],\n",
       "       [9.96730506e-01],\n",
       "       [9.55792665e-01],\n",
       "       [3.95261347e-02],\n",
       "       [9.91126835e-01],\n",
       "       [9.35567915e-01],\n",
       "       [1.29028842e-01],\n",
       "       [9.93775308e-01],\n",
       "       [9.75668728e-01],\n",
       "       [9.90602016e-01],\n",
       "       [2.07144301e-04],\n",
       "       [5.07322859e-08],\n",
       "       [9.85348284e-01],\n",
       "       [9.36693549e-01],\n",
       "       [3.07498471e-04],\n",
       "       [9.82263267e-01],\n",
       "       [9.96539176e-01],\n",
       "       [2.70260754e-03],\n",
       "       [9.93613005e-01],\n",
       "       [7.73575842e-01],\n",
       "       [9.57037151e-01],\n",
       "       [8.98778558e-01],\n",
       "       [9.67964470e-01],\n",
       "       [9.25399840e-01],\n",
       "       [9.39967215e-01],\n",
       "       [7.91967571e-01],\n",
       "       [1.88225022e-06],\n",
       "       [9.95209813e-01],\n",
       "       [1.07107860e-06],\n",
       "       [9.09501910e-01],\n",
       "       [6.41861677e-01],\n",
       "       [9.72752690e-01],\n",
       "       [5.04533527e-03],\n",
       "       [7.58413535e-07],\n",
       "       [9.92706180e-01],\n",
       "       [9.99274731e-01],\n",
       "       [9.95029747e-01],\n",
       "       [9.55961168e-01],\n",
       "       [9.95507061e-01],\n",
       "       [8.13870311e-01],\n",
       "       [4.44869280e-01],\n",
       "       [9.94757116e-01],\n",
       "       [9.99467313e-01],\n",
       "       [8.57261360e-01],\n",
       "       [9.99619007e-01],\n",
       "       [9.86926556e-01],\n",
       "       [9.88548398e-01],\n",
       "       [9.99385536e-01],\n",
       "       [9.94656324e-01],\n",
       "       [9.44238603e-01],\n",
       "       [9.99198735e-01],\n",
       "       [2.89638311e-01],\n",
       "       [3.05258986e-02],\n",
       "       [9.93501544e-01],\n",
       "       [8.24138045e-01],\n",
       "       [8.87300134e-01],\n",
       "       [9.17418242e-01],\n",
       "       [9.95383978e-01],\n",
       "       [1.46723315e-01],\n",
       "       [9.54685569e-01],\n",
       "       [9.95729625e-01],\n",
       "       [9.92551804e-01],\n",
       "       [9.76708353e-01],\n",
       "       [1.24721974e-02],\n",
       "       [9.68101561e-01],\n",
       "       [9.56191421e-01],\n",
       "       [6.96777761e-01],\n",
       "       [9.97873187e-01],\n",
       "       [6.69040310e-05],\n",
       "       [9.69834685e-01],\n",
       "       [9.52610314e-01],\n",
       "       [9.13002936e-04],\n",
       "       [9.51653600e-01],\n",
       "       [9.91481960e-01],\n",
       "       [9.80011523e-01],\n",
       "       [9.98038709e-01],\n",
       "       [1.27377445e-02],\n",
       "       [1.29883597e-03],\n",
       "       [6.86147809e-01],\n",
       "       [6.68123644e-03],\n",
       "       [9.84148145e-01],\n",
       "       [6.52696565e-03],\n",
       "       [1.01527562e-02],\n",
       "       [9.93717551e-01],\n",
       "       [9.82771218e-01],\n",
       "       [6.63604413e-04],\n",
       "       [9.93592381e-01],\n",
       "       [6.37463689e-01],\n",
       "       [5.04585914e-05],\n",
       "       [9.83761430e-01],\n",
       "       [9.42714632e-01],\n",
       "       [4.28816199e-01],\n",
       "       [8.12653005e-01],\n",
       "       [3.00567985e-01],\n",
       "       [1.17771642e-03],\n",
       "       [9.97637153e-01],\n",
       "       [9.99423623e-01],\n",
       "       [8.91256928e-01],\n",
       "       [9.55954008e-03],\n",
       "       [9.99786496e-01],\n",
       "       [8.43681693e-01],\n",
       "       [9.89819765e-01],\n",
       "       [6.79207981e-01],\n",
       "       [8.17396581e-01],\n",
       "       [7.19767690e-01],\n",
       "       [9.87018526e-01],\n",
       "       [9.33470666e-01],\n",
       "       [9.94283020e-01],\n",
       "       [7.47793820e-04],\n",
       "       [2.14575921e-05],\n",
       "       [1.23134669e-05],\n",
       "       [9.96385396e-01],\n",
       "       [9.90521848e-01],\n",
       "       [9.73663628e-01],\n",
       "       [8.81973863e-01],\n",
       "       [1.38497411e-03],\n",
       "       [9.98772562e-01],\n",
       "       [9.66743112e-01],\n",
       "       [7.95418918e-01],\n",
       "       [4.84101772e-02],\n",
       "       [9.72420394e-01],\n",
       "       [9.99823272e-01],\n",
       "       [9.97351587e-01],\n",
       "       [2.10810125e-01],\n",
       "       [9.98010874e-01],\n",
       "       [8.25445540e-03]], dtype=float32)"
      ]
     },
     "execution_count": 18,
     "metadata": {},
     "output_type": "execute_result"
    }
   ],
   "source": [
    "# Getting and printing predictions\n",
    "P = model.predict(X_test)\n",
    "P"
   ]
  },
  {
   "cell_type": "code",
   "execution_count": 19,
   "metadata": {},
   "outputs": [
    {
     "data": {
      "text/plain": [
       "array([1., 1., 0., 0., 1., 1., 0., 0., 1., 1., 0., 1., 1., 1., 0., 0., 0.,\n",
       "       1., 1., 0., 1., 0., 0., 1., 0., 1., 1., 0., 1., 1., 1., 1., 0., 1.,\n",
       "       1., 0., 0., 0., 1., 1., 1., 1., 0., 0., 1., 1., 1., 1., 1., 1., 1.,\n",
       "       1., 0., 1., 1., 1., 0., 0., 0., 1., 1., 0., 1., 1., 1., 0., 1., 1.,\n",
       "       0., 1., 1., 1., 0., 0., 1., 1., 0., 1., 1., 0., 1., 1., 1., 1., 1.,\n",
       "       1., 1., 1., 0., 1., 0., 1., 1., 1., 0., 0., 1., 1., 1., 1., 1., 1.,\n",
       "       0., 1., 1., 1., 1., 1., 1., 1., 1., 1., 1., 0., 0., 1., 1., 1., 1.,\n",
       "       1., 0., 1., 1., 1., 1., 0., 1., 1., 1., 1., 0., 1., 1., 0., 1., 1.,\n",
       "       1., 1., 0., 0., 1., 0., 1., 0., 0., 1., 1., 0., 1., 1., 0., 1., 1.,\n",
       "       0., 1., 0., 0., 1., 1., 1., 0., 1., 1., 1., 1., 1., 1., 1., 1., 1.,\n",
       "       0., 0., 0., 1., 1., 1., 1., 0., 1., 1., 1., 0., 1., 1., 1., 0., 1.,\n",
       "       0.], dtype=float32)"
      ]
     },
     "execution_count": 19,
     "metadata": {},
     "output_type": "execute_result"
    }
   ],
   "source": [
    "# Rounding predictions\n",
    "P = np.round(P).flatten()\n",
    "P"
   ]
  },
  {
   "cell_type": "code",
   "execution_count": 20,
   "metadata": {},
   "outputs": [
    {
     "name": "stdout",
     "output_type": "stream",
     "text": [
      "Manually calculated accuracy: 0.9946808510638298\n",
      "6/6 [==============================] - 0s 484us/step - loss: 0.0653 - accuracy: 0.9947\n",
      "Evaluate output: [0.06526591628789902, 0.9946808218955994]\n"
     ]
    }
   ],
   "source": [
    "# Showing accuracy manually calculated and through the evaluate method\n",
    "print('Manually calculated accuracy:', np.mean(P == y_test))\n",
    "print('Evaluate output:', model.evaluate(X_test, y_test))"
   ]
  },
  {
   "cell_type": "markdown",
   "metadata": {},
   "source": [
    "## Part 3: Save and load model\n",
    "\n",
    "Finally, we'll save the model, using `.save` and passing it the path to the saved file, and load that same loaded model, using the `load_model` function.\n"
   ]
  },
  {
   "cell_type": "code",
   "execution_count": 21,
   "metadata": {},
   "outputs": [],
   "source": [
    "# Saving model\n",
    "model.save('models/linear_classifier.keras')"
   ]
  },
  {
   "cell_type": "code",
   "execution_count": null,
   "metadata": {},
   "outputs": [],
   "source": [
    "# Loading model\n",
    "model = tf.keras.models.load_model('models/linear_classifier.keras')\n",
    "print(model.layers)\n",
    "model.evaluate(X_test, y_test)"
   ]
  }
 ],
 "metadata": {
  "kernelspec": {
   "display_name": "Python 3",
   "language": "python",
   "name": "python3"
  },
  "language_info": {
   "codemirror_mode": {
    "name": "ipython",
    "version": 3
   },
   "file_extension": ".py",
   "mimetype": "text/x-python",
   "name": "python",
   "nbconvert_exporter": "python",
   "pygments_lexer": "ipython3",
   "version": "3.11.5"
  }
 },
 "nbformat": 4,
 "nbformat_minor": 2
}
