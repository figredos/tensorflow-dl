{
 "cells": [
  {
   "cell_type": "markdown",
   "metadata": {},
   "source": [
    "# Text Preprocessing\n"
   ]
  },
  {
   "cell_type": "code",
   "execution_count": 19,
   "metadata": {},
   "outputs": [],
   "source": [
    "from keras.utils import pad_sequences\n",
    "from keras.layers import TextVectorization"
   ]
  },
  {
   "cell_type": "code",
   "execution_count": 28,
   "metadata": {},
   "outputs": [],
   "source": [
    "# Simple test\n",
    "sentences = [\n",
    "    'I like eggs and ham.',\n",
    "    'I love hot chocolate and bunnies.',\n",
    "    'I hate onions.',\n",
    "]"
   ]
  },
  {
   "cell_type": "code",
   "execution_count": 29,
   "metadata": {},
   "outputs": [],
   "source": [
    "MAX_VOCAB_SIZE = 20000"
   ]
  },
  {
   "cell_type": "code",
   "execution_count": 30,
   "metadata": {},
   "outputs": [],
   "source": [
    "# Vectorizing data\n",
    "vectorize_layer = TextVectorization(\n",
    "    max_tokens=MAX_VOCAB_SIZE,\n",
    "    # Default but useful arguments\n",
    "    standardize='lower_and_strip_punctuation',\n",
    "    split='whitespace',\n",
    "    output_mode='int',\n",
    ")"
   ]
  },
  {
   "cell_type": "code",
   "execution_count": 31,
   "metadata": {},
   "outputs": [],
   "source": [
    "# \"Training vectorization layer\"\n",
    "vectorize_layer.adapt(sentences)"
   ]
  },
  {
   "cell_type": "code",
   "execution_count": 32,
   "metadata": {},
   "outputs": [
    {
     "name": "stdout",
     "output_type": "stream",
     "text": [
      "tf.Tensor(\n",
      "[[ 2  6 10  3  9  0]\n",
      " [ 2  5  7 11  3 12]\n",
      " [ 2  8  4  0  0  0]], shape=(3, 6), dtype=int64)\n"
     ]
    }
   ],
   "source": [
    "# Transforming sequences\n",
    "sequences = vectorize_layer(sentences)\n",
    "print(sequences)"
   ]
  },
  {
   "cell_type": "code",
   "execution_count": 33,
   "metadata": {},
   "outputs": [
    {
     "data": {
      "text/plain": [
       "['',\n",
       " '[UNK]',\n",
       " 'i',\n",
       " 'and',\n",
       " 'onions',\n",
       " 'love',\n",
       " 'like',\n",
       " 'hot',\n",
       " 'hate',\n",
       " 'ham',\n",
       " 'eggs',\n",
       " 'chocolate',\n",
       " 'bunnies']"
      ]
     },
     "execution_count": 33,
     "metadata": {},
     "output_type": "execute_result"
    }
   ],
   "source": [
    "# Showing vocabulary\n",
    "vectorize_layer.get_vocabulary()"
   ]
  },
  {
   "cell_type": "code",
   "execution_count": 9,
   "metadata": {},
   "outputs": [
    {
     "name": "stdout",
     "output_type": "stream",
     "text": [
      "{'': 0, '[UNK]': 1, 'i': 2, 'sandwiches': 3, 'onions': 4, 'love': 5, 'like': 6, 'hot': 7, 'hate': 8, 'chocolate': 9, 'cheese': 10, 'bunnies': 11, 'and': 12}\n"
     ]
    }
   ],
   "source": [
    "# Word to index mapping\n",
    "word2indx = {v: k for k, v in enumerate(vectorize_layer.get_vocabulary())}\n",
    "print(word2indx)"
   ]
  },
  {
   "cell_type": "code",
   "execution_count": 17,
   "metadata": {},
   "outputs": [
    {
     "name": "stdout",
     "output_type": "stream",
     "text": [
      "tf.Tensor(\n",
      "[[ 2  6 10]\n",
      " [ 2  5  7]\n",
      " [ 2  8  4]], shape=(3, 3), dtype=int64)\n"
     ]
    }
   ],
   "source": [
    "# Truncatation\n",
    "vectorize_layer_truncated = TextVectorization(\n",
    "    max_tokens=MAX_VOCAB_SIZE,\n",
    "    output_sequence_length=3,\n",
    ")\n",
    "\n",
    "# Fit\n",
    "vectorize_layer_truncated.adapt(sentences)\n",
    "\n",
    "# Predict\n",
    "sequences = vectorize_layer_truncated(sentences)\n",
    "print(sequences)"
   ]
  },
  {
   "cell_type": "code",
   "execution_count": null,
   "metadata": {},
   "outputs": [
    {
     "name": "stdout",
     "output_type": "stream",
     "text": [
      "<tf.RaggedTensor [[2, 6, 10, 3], [2, 5, 7, 9, 12, 11], [2, 8, 4]]>\n"
     ]
    }
   ],
   "source": [
    "# Ragged (no padding)\n",
    "vectorize_layer_ragged = TextVectorization(\n",
    "    max_tokens=MAX_VOCAB_SIZE,\n",
    "    ragged=True,\n",
    ")\n",
    "\n",
    "# Fit\n",
    "vectorize_layer_ragged.adapt(sentences)\n",
    "\n",
    "# Predict\n",
    "sequences = vectorize_layer_ragged(sentences)\n",
    "print(sequences)"
   ]
  },
  {
   "cell_type": "code",
   "execution_count": 20,
   "metadata": {},
   "outputs": [
    {
     "name": "stdout",
     "output_type": "stream",
     "text": [
      "[[ 0  0  2  6 10  3]\n",
      " [ 2  5  7  9 12 11]\n",
      " [ 0  0  0  2  8  4]]\n"
     ]
    }
   ],
   "source": [
    "# Padding in front instead of back\n",
    "\n",
    "padded = pad_sequences(sequences.to_list())\n",
    "print(padded)"
   ]
  }
 ],
 "metadata": {
  "kernelspec": {
   "display_name": "Python 3",
   "language": "python",
   "name": "python3"
  },
  "language_info": {
   "codemirror_mode": {
    "name": "ipython",
    "version": 3
   },
   "file_extension": ".py",
   "mimetype": "text/x-python",
   "name": "python",
   "nbconvert_exporter": "python",
   "pygments_lexer": "ipython3",
   "version": "3.11.8"
  }
 },
 "nbformat": 4,
 "nbformat_minor": 2
}
